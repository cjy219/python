{
 "cells": [
  {
   "cell_type": "markdown",
   "metadata": {},
   "source": [
    "# 基本程序设计\n",
    "- 一切代码输入，请使用英文输入法"
   ]
  },
  {
   "cell_type": "code",
   "execution_count": 1,
   "metadata": {},
   "outputs": [
    {
     "name": "stdout",
     "output_type": "stream",
     "text": [
      "Hello world\n"
     ]
    }
   ],
   "source": [
    "print('Hello world')"
   ]
  },
  {
   "cell_type": "code",
   "execution_count": 1,
   "metadata": {},
   "outputs": [
    {
     "name": "stdout",
     "output_type": "stream",
     "text": [
      "hello word\n"
     ]
    }
   ],
   "source": [
    "print('hello word')"
   ]
  },
  {
   "cell_type": "code",
   "execution_count": 2,
   "metadata": {},
   "outputs": [
    {
     "ename": "SyntaxError",
     "evalue": "Missing parentheses in call to 'print'. Did you mean print('hello')? (<ipython-input-2-5a1ef41e7057>, line 1)",
     "output_type": "error",
     "traceback": [
      "\u001b[0;36m  File \u001b[0;32m\"<ipython-input-2-5a1ef41e7057>\"\u001b[0;36m, line \u001b[0;32m1\u001b[0m\n\u001b[0;31m    print 'hello'\u001b[0m\n\u001b[0m                ^\u001b[0m\n\u001b[0;31mSyntaxError\u001b[0m\u001b[0;31m:\u001b[0m Missing parentheses in call to 'print'. Did you mean print('hello')?\n"
     ]
    }
   ],
   "source": [
    "print 'hello'"
   ]
  },
  {
   "cell_type": "markdown",
   "metadata": {},
   "source": [
    "## 编写一个简单的程序\n",
    "- 圆公式面积： area = radius \\* radius \\* 3.1415"
   ]
  },
  {
   "cell_type": "code",
   "execution_count": 3,
   "metadata": {},
   "outputs": [
    {
     "name": "stdout",
     "output_type": "stream",
     "text": [
      "3.14\n"
     ]
    }
   ],
   "source": [
    "radius = 1.0\n",
    "area = radius * radius * 3.14 # 将后半部分的结果赋值给变量area\n",
    "# 变量一定要有初始值！！！\n",
    "# radius: 变量.area: 变量！\n",
    "# int 类型\n",
    "print(area)"
   ]
  },
  {
   "cell_type": "markdown",
   "metadata": {},
   "source": [
    "### 在Python里面不需要定义数据的类型"
   ]
  },
  {
   "cell_type": "markdown",
   "metadata": {},
   "source": [
    " 控制台的读取与输入\n",
    "- input 输入进去的是字符串\n",
    "- eval"
   ]
  },
  {
   "cell_type": "code",
   "execution_count": 2,
   "metadata": {},
   "outputs": [
    {
     "name": "stdout",
     "output_type": "stream",
     "text": [
      "请输入姓名：柴家玉\n",
      "柴家玉 666\n"
     ]
    }
   ],
   "source": [
    "name = input('请输入姓名：')\n",
    "print(name,'666')"
   ]
  },
  {
   "cell_type": "code",
   "execution_count": 1,
   "metadata": {},
   "outputs": [
    {
     "name": "stdout",
     "output_type": "stream",
     "text": [
      "请输入半径2\n",
      "圆的面积为: 12.56\n"
     ]
    }
   ],
   "source": [
    "radius = input('请输入半径') # input得到的结果是字符串类型\n",
    "#radius = int(radius)#将str类型的radius转换为int（整型）的radius\n",
    "radius = float(radius)\n",
    "area = radius * radius * 3.14\n",
    "print('圆的面积为:',area)"
   ]
  },
  {
   "cell_type": "code",
   "execution_count": 1,
   "metadata": {},
   "outputs": [
    {
     "name": "stdout",
     "output_type": "stream",
     "text": [
      "请输入半径：1.4\n",
      "1.4\n",
      "<class 'float'>\n",
      "6.1544\n"
     ]
    }
   ],
   "source": [
    "#eval()#将字符串直接转换为数学表达式,数字也是可以相互转换的，\n",
    "#比如你输入的是字符串的1，那么就会转成int型的1，\n",
    "#比如你输入的是字符串的1.0，那么就会转换成1.0\n",
    "radius = eval(input('请输入半径：'))\n",
    "print(radius)\n",
    "print(type(radius))\n",
    "area = radius * radius * 3.14\n",
    "print(area)"
   ]
  },
  {
   "cell_type": "markdown",
   "metadata": {},
   "source": [
    "- 在jupyter用shift + tab 键可以跳出解释文档"
   ]
  },
  {
   "cell_type": "markdown",
   "metadata": {},
   "source": [
    "# 变量命名的规范\n",
    "- 由字母、数字、下划线构成\n",
    "- 不能以数字开头 \\*\n",
    "- 标识符不能是关键词(实际上是可以强制改变的，但是对于代码规范而言是极其不适合)\n",
    "- 可以是任意长度\n",
    "- 驼峰式命名(首子母大写）"
   ]
  },
  {
   "cell_type": "markdown",
   "metadata": {},
   "source": [
    "## 变量、赋值语句和赋值表达式\n",
    "- 变量: 通俗理解为可以变化的量\n",
    "- x = 2 \\* x + 1 在数学中是一个方程，而在语言中它是一个表达式\n",
    "- test = test + 1 \\* 变量在赋值之前必须有值"
   ]
  },
  {
   "cell_type": "markdown",
   "metadata": {},
   "source": [
    "# 同时赋值\n",
    "var1, var2,var3... = exp1,exp2,exp3...同一个数不可以赋值一次"
   ]
  },
  {
   "cell_type": "markdown",
   "metadata": {},
   "source": [
    "## 定义常量\n",
    "- 常量：表示一种定值标识符，适合于多次使用的场景。比如PI\n",
    "- 注意：在其他低级语言中如果定义了常量，那么，该常量是不可以被改变的，但是在Python中一切皆对象，常量也是可以被改变的"
   ]
  },
  {
   "cell_type": "markdown",
   "metadata": {},
   "source": [
    "## 数值数据类型和运算符\n",
    "- 在Python中有两种数值类型（int 和 float）适用于加减乘除、模、幂次\n",
    "<img src = \"../Photo/01.jpg\"></img>"
   ]
  },
  {
   "cell_type": "code",
   "execution_count": 6,
   "metadata": {},
   "outputs": [
    {
     "name": "stdout",
     "output_type": "stream",
     "text": [
      "请输入底：5\n",
      "请输入高：8\n",
      "三角形的面积为: 20.0\n"
     ]
    }
   ],
   "source": [
    "#作业\n",
    "radius1 = eval(input('请输入底：'))\n",
    "radius2 = eval(input('请输入高：'))\n",
    "area = radius1 * radius2 * (1/2)\n",
    "print('三角形的面积为:',area)"
   ]
  },
  {
   "cell_type": "code",
   "execution_count": 28,
   "metadata": {},
   "outputs": [
    {
     "name": "stdout",
     "output_type": "stream",
     "text": [
      "请输入一个数：5\n",
      "2.5\n"
     ]
    }
   ],
   "source": [
    "import random\n",
    "#随机数如果是偶数，那么中奖否则不中奖\n",
    "number = random.randint(0,10)\n",
    "number = eval(input('请输入一个数：'))\n",
    "area = number/2\n",
    "print(area)"
   ]
  },
  {
   "cell_type": "markdown",
   "metadata": {},
   "source": [
    "## 运算符 /、//、**"
   ]
  },
  {
   "cell_type": "code",
   "execution_count": 3,
   "metadata": {},
   "outputs": [
    {
     "name": "stdout",
     "output_type": "stream",
     "text": [
      "1\n"
     ]
    }
   ],
   "source": [
    "a = 1\n",
    "b = 1\n",
    "c = a**b\n",
    "print(c)"
   ]
  },
  {
   "cell_type": "markdown",
   "metadata": {},
   "source": [
    "## 运算符 %"
   ]
  },
  {
   "cell_type": "markdown",
   "metadata": {},
   "source": [
    "## EP：\n",
    "- 25/4 多少，如果要将其转变为整数该怎么改写\n",
    "- 输入一个数字判断是奇数还是偶数\n",
    "- 进阶: 输入一个秒数，写一个程序将其转换成分和秒：例如500秒等于8分20秒\n",
    "- 进阶: 如果今天是星期六，那么10天以后是星期几？ 提示：每个星期的第0天是星期天"
   ]
  },
  {
   "cell_type": "code",
   "execution_count": 5,
   "metadata": {},
   "outputs": [
    {
     "name": "stdout",
     "output_type": "stream",
     "text": [
      "6\n"
     ]
    }
   ],
   "source": [
    "a = 25\n",
    "b = 4\n",
    "c = a // b\n",
    "print(c)"
   ]
  },
  {
   "cell_type": "code",
   "execution_count": 22,
   "metadata": {},
   "outputs": [
    {
     "data": {
      "text/plain": [
       "6"
      ]
     },
     "execution_count": 22,
     "metadata": {},
     "output_type": "execute_result"
    }
   ],
   "source": [
    "int(25/4)"
   ]
  },
  {
   "cell_type": "code",
   "execution_count": 2,
   "metadata": {},
   "outputs": [
    {
     "name": "stdout",
     "output_type": "stream",
     "text": [
      "输入一个秒数:222\n",
      "3 分 42 秒\n"
     ]
    }
   ],
   "source": [
    "seconds = eval(input('输入一个秒数:'))\n",
    "mins = seconds // 60\n",
    "second = seconds % 60\n",
    "print(mins,\"分\",second,\"秒\")"
   ]
  },
  {
   "cell_type": "code",
   "execution_count": 1,
   "metadata": {},
   "outputs": [
    {
     "name": "stdout",
     "output_type": "stream",
     "text": [
      "week:5\n",
      "days:10\n",
      "1\n"
     ]
    }
   ],
   "source": [
    "week = eval(input('week:'))\n",
    "plus_day = eval(input('days:'))\n",
    "res = (week + plus_day) % 7\n",
    "print (res)"
   ]
  },
  {
   "cell_type": "markdown",
   "metadata": {},
   "source": [
    "## 科学计数法\n",
    "- 1.234e+2\n",
    "- 1.234e-2"
   ]
  },
  {
   "cell_type": "markdown",
   "metadata": {},
   "source": [
    "## 计算表达式和运算优先级\n",
    "<img src = \"../Photo/02.png\"></img>\n",
    "<img src = \"../Photo/03.png\"></img>"
   ]
  },
  {
   "cell_type": "code",
   "execution_count": 4,
   "metadata": {},
   "outputs": [
    {
     "name": "stdout",
     "output_type": "stream",
     "text": [
      "请输入一个数：1\n",
      "请输入一个数：1\n",
      "请输入一个数：1\n",
      "请输入一个数：1\n",
      "请输入一个数：1\n",
      "结果为 247.4\n"
     ]
    }
   ],
   "source": [
    "x = eval(input('请输入一个数：'))\n",
    "y = eval(input('请输入一个数：'))\n",
    "a = eval(input('请输入一个数：'))\n",
    "b = eval(input('请输入一个数：'))\n",
    "c = eval(input('请输入一个数：'))\n",
    "area =( 3 + 4 *x ) / 5-10 * ( y - 5 ) *( a +b + c )/ x + 9 *(  4 / x + ( 9 + x ) / y )\n",
    "print('结果为',area)"
   ]
  },
  {
   "cell_type": "code",
   "execution_count": 5,
   "metadata": {},
   "outputs": [
    {
     "name": "stdout",
     "output_type": "stream",
     "text": [
      "请输入一个数：1\n",
      "请输入一个数：1\n",
      "请输入一个数：1\n",
      "请输入一个数：1\n",
      "请输入一个数：1\n",
      "结果为 247.4\n"
     ]
    }
   ],
   "source": [
    "x = eval(input('请输入一个数：'))\n",
    "y = eval(input('请输入一个数：'))\n",
    "a = eval(input('请输入一个数：'))\n",
    "b = eval(input('请输入一个数：'))\n",
    "c = eval(input('请输入一个数：'))\n",
    "part_1 = ( 3 + 4 *x ) / 5\n",
    "part_2 = 10 * ( y - 5 ) *( a +b + c )/ x\n",
    "part_3 = 9 *(  4 / x + ( 9 + x ) / y )\n",
    "part_4 =part_1-part_2+part_3\n",
    "print('结果为',part_4)"
   ]
  },
  {
   "cell_type": "markdown",
   "metadata": {},
   "source": [
    "# 增强型赋值运算\n",
    "<img src = \"../Photo/04.png\"></img>"
   ]
  },
  {
   "cell_type": "markdown",
   "metadata": {},
   "source": [
    "## 类型转换\n",
    "- float  -> int\n",
    "- 四舍五入 round"
   ]
  },
  {
   "cell_type": "code",
   "execution_count": null,
   "metadata": {},
   "outputs": [],
   "source": [
    "a=1\n",
    "float(a)#强制转换"
   ]
  },
  {
   "cell_type": "code",
   "execution_count": 6,
   "metadata": {},
   "outputs": [
    {
     "data": {
      "text/plain": [
       "1.3"
      ]
     },
     "execution_count": 6,
     "metadata": {},
     "output_type": "execute_result"
    }
   ],
   "source": [
    "round(1.34,1)#前面四舍五入的数字，后面的是保留几位小数"
   ]
  },
  {
   "cell_type": "markdown",
   "metadata": {},
   "source": [
    "## EP:\n",
    "- 如果一个年营业税为0.06%，那么对于197.55e+2的年收入，需要交税为多少？(结果保留2为小数)\n",
    "- 必须使用科学计数法"
   ]
  },
  {
   "cell_type": "code",
   "execution_count": 35,
   "metadata": {},
   "outputs": [
    {
     "name": "stdout",
     "output_type": "stream",
     "text": [
      "请输入一个数：197.55e+2\n",
      "结果为 11.85\n"
     ]
    }
   ],
   "source": [
    "x = eval(input('请输入一个数：'))\n",
    "b = (x * 0.06)/100\n",
    "c = round(b,2)\n",
    "print('结果为',c)"
   ]
  },
  {
   "cell_type": "markdown",
   "metadata": {},
   "source": [
    "# Project\n",
    "- 用Python写一个贷款计算器程序：输入的是月供(monthlyPayment) 输出的是总还款数(totalpayment)\n",
    "![](../Photo/05.png)"
   ]
  },
  {
   "cell_type": "code",
   "execution_count": 5,
   "metadata": {},
   "outputs": [
    {
     "name": "stdout",
     "output_type": "stream",
     "text": [
      "请输入一个数：1\n",
      "请输入一个数：1\n",
      "请输入一个数：1\n",
      "zong 12.002930402930403\n"
     ]
    }
   ],
   "source": [
    "daikuanshu = eval(input('请输入一个数：'))\n",
    "yuelilv = eval(input('请输入一个数：'))\n",
    "nianxian = eval(input('请输入一个数：'))\n",
    "a = (daikuanshu*yuelilv)\n",
    "b =1-1/(1+yuelilv)**(nianxian*12)\n",
    "c = a/b\n",
    "print('zong',c*(nianxian*12))"
   ]
  },
  {
   "cell_type": "markdown",
   "metadata": {},
   "source": [
    "# Homework\n",
    "- 1\n",
    "<img src=\"../Photo/06.png\"></img>"
   ]
  },
  {
   "cell_type": "code",
   "execution_count": 4,
   "metadata": {},
   "outputs": [
    {
     "name": "stdout",
     "output_type": "stream",
     "text": [
      "请输入摄氏温度：43\n",
      "华氏温度为： 109.4\n"
     ]
    }
   ],
   "source": [
    "#将摄氏温度转化为华氏温度\n",
    "celsius = eval(input('请输入摄氏温度：'))\n",
    "fahrenheit = (9 / 5) * celsius + 32\n",
    "print('华氏温度为：',fahrenheit)"
   ]
  },
  {
   "cell_type": "markdown",
   "metadata": {},
   "source": [
    "- 2\n",
    "<img src=\"../Photo/07.png\"></img>"
   ]
  },
  {
   "cell_type": "code",
   "execution_count": 36,
   "metadata": {},
   "outputs": [
    {
     "name": "stdout",
     "output_type": "stream",
     "text": [
      "请输入圆的半径：5.5\n",
      "请输入圆的高：12\n",
      "圆柱体的体积 1140.4\n"
     ]
    }
   ],
   "source": [
    "#计算圆柱体的体积\n",
    "radius = eval(input('请输入圆的半径：'))\n",
    "length = eval(input('请输入圆的高：'))\n",
    "area = radius * radius * 3.1415926\n",
    "volume = area * length\n",
    "print('圆柱体的体积',round(volume,2))"
   ]
  },
  {
   "cell_type": "markdown",
   "metadata": {},
   "source": [
    "- 3\n",
    "<img src=\"../Photo/08.png\"></img>"
   ]
  },
  {
   "cell_type": "code",
   "execution_count": 37,
   "metadata": {},
   "outputs": [
    {
     "name": "stdout",
     "output_type": "stream",
     "text": [
      "请输入英尺数：16.5\n",
      "米数为： 5.03\n"
     ]
    }
   ],
   "source": [
    "#将英尺数为转换米数\n",
    "yingchi = eval(input('请输入英尺数：'))\n",
    "mishu = yingchi * 0.305\n",
    "print('米数为：',round(mishu,2))"
   ]
  },
  {
   "cell_type": "markdown",
   "metadata": {},
   "source": [
    "- 4\n",
    "<img src=\"../Photo/10.png\"></img>"
   ]
  },
  {
   "cell_type": "code",
   "execution_count": 15,
   "metadata": {},
   "outputs": [
    {
     "name": "stdout",
     "output_type": "stream",
     "text": [
      "请输入以千克计算的水量：55.5\n",
      "请输入水的初始温度：3.5\n",
      "请输入水的最终温度：10.5\n",
      "所需能量 1625484.0\n"
     ]
    }
   ],
   "source": [
    "#计算能量\n",
    "M = eval(input('请输入以千克计算的水量：'))\n",
    "initialTemperature = eval(input('请输入水的初始温度：'))\n",
    "finalTemperature = eval(input('请输入水的最终温度：'))\n",
    "Q = M * (finalTemperature - initialTemperature) * 4184\n",
    "print('所需能量',Q)"
   ]
  },
  {
   "cell_type": "markdown",
   "metadata": {},
   "source": [
    "- 5\n",
    "<img src=\"../Photo/11.png\"></img>"
   ]
  },
  {
   "cell_type": "code",
   "execution_count": 39,
   "metadata": {},
   "outputs": [
    {
     "name": "stdout",
     "output_type": "stream",
     "text": [
      "请输入差额：1000\n",
      "请输入年利率：3.5\n",
      "下个月要付的利息为： 2.91667\n"
     ]
    }
   ],
   "source": [
    "#金融应用程序：计算利息\n",
    "cae = eval(input('请输入差额：'))\n",
    "nianlilv = eval(input('请输入年利率：'))\n",
    "lixi = cae * (nianlilv/1200)\n",
    "print('下个月要付的利息为：',round(lixi,5))"
   ]
  },
  {
   "cell_type": "markdown",
   "metadata": {},
   "source": [
    "- 6\n",
    "<img src=\"../Photo/12.png\"></img>"
   ]
  },
  {
   "cell_type": "code",
   "execution_count": 40,
   "metadata": {},
   "outputs": [
    {
     "name": "stdout",
     "output_type": "stream",
     "text": [
      "请输入初始速度：5.5\n",
      "请输入末速度：50.9\n",
      "请输入以秒为单位速度变化所占有的时间：4.5\n",
      "平均加速度为： 10.0889\n"
     ]
    }
   ],
   "source": [
    "#物理方面：加速度\n",
    "v0 = eval(input('请输入初始速度：'))\n",
    "v1 = eval(input('请输入末速度：'))\n",
    "t = eval(input('请输入以秒为单位速度变化所占有的时间：'))\n",
    "a = (v1-v0)/t\n",
    "print('平均加速度为：',round(a,4))"
   ]
  },
  {
   "cell_type": "markdown",
   "metadata": {},
   "source": [
    "- 7 进阶\n",
    "<img src=\"../Photo/13.png\"></img>"
   ]
  },
  {
   "cell_type": "code",
   "execution_count": 41,
   "metadata": {},
   "outputs": [
    {
     "name": "stdout",
     "output_type": "stream",
     "text": [
      "请输入每月存款数：100\n",
      "六个月后的账户余额： 608.82\n"
     ]
    }
   ],
   "source": [
    "#金融应用程序：复利值\n",
    "a = eval(input('请输入每月存款数：'))\n",
    "b = 1 + 0.00417\n",
    "c = a * b\n",
    "d = (a+c) * b\n",
    "e = (a+d) * b\n",
    "f = (a+e) * b\n",
    "h = (a+f) * b\n",
    "i = (a+h) * b\n",
    "print('六个月后的账户余额：',round(i,2))"
   ]
  },
  {
   "cell_type": "markdown",
   "metadata": {},
   "source": [
    "- 8 进阶\n",
    "<img src=\"../Photo/14.png\"></img>"
   ]
  },
  {
   "cell_type": "code",
   "execution_count": 32,
   "metadata": {},
   "outputs": [
    {
     "name": "stdout",
     "output_type": "stream",
     "text": [
      "请输入一个值（0-1000）：999\n",
      "数字求和 27\n"
     ]
    }
   ],
   "source": [
    "#对一个整数中的各位数字求和\n",
    "import math\n",
    "a = eval(input('请输入一个值（0-1000）：'))\n",
    "b = a % 10\n",
    "c = a // 10\n",
    "d = c % 10\n",
    "e = math.floor(c / 10)\n",
    "f = b + d + e\n",
    "print('数字求和',f)"
   ]
  },
  {
   "cell_type": "code",
   "execution_count": 3,
   "metadata": {},
   "outputs": [
    {
     "name": "stdout",
     "output_type": "stream",
     "text": [
      ">>1,1.0\n",
      "1 1.0\n",
      "<class 'int'> <class 'float'>\n"
     ]
    }
   ],
   "source": [
    "a,b = eval(input('>>'))\n",
    "print(a,b)\n",
    "print(type(a),type(b))"
   ]
  },
  {
   "cell_type": "code",
   "execution_count": 4,
   "metadata": {},
   "outputs": [
    {
     "name": "stdout",
     "output_type": "stream",
     "text": [
      ">>1,2,3,4,5,6\n",
      "(1, 2, 3, 4, 5, 6)\n"
     ]
    }
   ],
   "source": [
    "a = eval(input('>>'))\n",
    "print(a)"
   ]
  }
 ],
 "metadata": {
  "kernelspec": {
   "display_name": "Python 3",
   "language": "python",
   "name": "python3"
  },
  "language_info": {
   "codemirror_mode": {
    "name": "ipython",
    "version": 3
   },
   "file_extension": ".py",
   "mimetype": "text/x-python",
   "name": "python",
   "nbconvert_exporter": "python",
   "pygments_lexer": "ipython3",
   "version": "3.7.3"
  }
 },
 "nbformat": 4,
 "nbformat_minor": 2
}
