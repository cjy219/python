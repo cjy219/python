{
 "cells": [
  {
   "cell_type": "markdown",
   "metadata": {},
   "source": [
    "# 选择\n",
    "## 布尔类型、数值和表达式\n",
    "![](../Photo/33.png)\n",
    "- 注意：比较运算符的相等是两个等号，一个等到代表赋值\n",
    "- 在Python中可以用整型0来代表False，其他数字来代表True\n",
    "- 后面还会讲到 is 在判断语句中的用发"
   ]
  },
  {
   "cell_type": "code",
   "execution_count": 2,
   "metadata": {},
   "outputs": [
    {
     "data": {
      "text/plain": [
       "False"
      ]
     },
     "execution_count": 2,
     "metadata": {},
     "output_type": "execute_result"
    }
   ],
   "source": [
    "1>1.0"
   ]
  },
  {
   "cell_type": "code",
   "execution_count": 3,
   "metadata": {},
   "outputs": [
    {
     "data": {
      "text/plain": [
       "True"
      ]
     },
     "execution_count": 3,
     "metadata": {},
     "output_type": "execute_result"
    }
   ],
   "source": [
    "bool('0')"
   ]
  },
  {
   "cell_type": "code",
   "execution_count": 4,
   "metadata": {},
   "outputs": [
    {
     "data": {
      "text/plain": [
       "True"
      ]
     },
     "execution_count": 4,
     "metadata": {},
     "output_type": "execute_result"
    }
   ],
   "source": [
    "bool(1)"
   ]
  },
  {
   "cell_type": "code",
   "execution_count": 5,
   "metadata": {},
   "outputs": [
    {
     "data": {
      "text/plain": [
       "140715426419520"
      ]
     },
     "execution_count": 5,
     "metadata": {},
     "output_type": "execute_result"
    }
   ],
   "source": [
    "id(1)"
   ]
  },
  {
   "cell_type": "code",
   "execution_count": 6,
   "metadata": {},
   "outputs": [
    {
     "name": "stdout",
     "output_type": "stream",
     "text": [
      "140715426419520 140715426419520\n"
     ]
    }
   ],
   "source": [
    "a= id(1)\n",
    "b=id(1)\n",
    "#因为a和b并不是同一个对象\n",
    "print(a,b)\n",
    "a is b"
   ]
  },
  {
   "cell_type": "code",
   "execution_count": 7,
   "metadata": {},
   "outputs": [
    {
     "data": {
      "text/plain": [
       "False"
      ]
     },
     "execution_count": 7,
     "metadata": {},
     "output_type": "execute_result"
    }
   ],
   "source": [
    "a is b"
   ]
  },
  {
   "cell_type": "code",
   "execution_count": 8,
   "metadata": {},
   "outputs": [
    {
     "data": {
      "text/plain": [
       "False"
      ]
     },
     "execution_count": 8,
     "metadata": {},
     "output_type": "execute_result"
    }
   ],
   "source": [
    "a=(True)\n",
    "b=(False)\n",
    "a==b#a是否等于b"
   ]
  },
  {
   "cell_type": "code",
   "execution_count": 9,
   "metadata": {},
   "outputs": [
    {
     "data": {
      "text/plain": [
       "False"
      ]
     },
     "execution_count": 9,
     "metadata": {},
     "output_type": "execute_result"
    }
   ],
   "source": [
    "a is b"
   ]
  },
  {
   "cell_type": "markdown",
   "metadata": {},
   "source": [
    "## 字符串的比较使用ASCII值"
   ]
  },
  {
   "cell_type": "code",
   "execution_count": 10,
   "metadata": {},
   "outputs": [
    {
     "data": {
      "text/plain": [
       "False"
      ]
     },
     "execution_count": 10,
     "metadata": {},
     "output_type": "execute_result"
    }
   ],
   "source": [
    "a = \"Joker\"\n",
    "b = \"joker\"\n",
    "a > b"
   ]
  },
  {
   "cell_type": "code",
   "execution_count": 12,
   "metadata": {},
   "outputs": [
    {
     "data": {
      "text/plain": [
       "True"
      ]
     },
     "execution_count": 12,
     "metadata": {},
     "output_type": "execute_result"
    }
   ],
   "source": [
    "a = \"joker\"\n",
    "b = \"jokar\"\n",
    "a > b"
   ]
  },
  {
   "cell_type": "code",
   "execution_count": null,
   "metadata": {},
   "outputs": [],
   "source": []
  },
  {
   "cell_type": "code",
   "execution_count": null,
   "metadata": {},
   "outputs": [],
   "source": []
  },
  {
   "cell_type": "markdown",
   "metadata": {},
   "source": [
    "## Markdown \n",
    "- https://github.com/younghz/Markdown"
   ]
  },
  {
   "cell_type": "markdown",
   "metadata": {},
   "source": []
  },
  {
   "cell_type": "code",
   "execution_count": null,
   "metadata": {},
   "outputs": [],
   "source": []
  },
  {
   "cell_type": "markdown",
   "metadata": {},
   "source": [
    "## EP:\n",
    "- <img src=\"../Photo/34.png\"></img>\n",
    "- 输入一个数字，判断其实奇数还是偶数"
   ]
  },
  {
   "cell_type": "code",
   "execution_count": 15,
   "metadata": {},
   "outputs": [
    {
     "name": "stdout",
     "output_type": "stream",
     "text": [
      "1 0\n"
     ]
    }
   ],
   "source": [
    "i = int(True)\n",
    "j = int(False)\n",
    "print(i,j)"
   ]
  },
  {
   "cell_type": "markdown",
   "metadata": {},
   "source": [
    "## 产生随机数字\n",
    "- 函数random.randint(a,b) 可以用来产生一个a和b之间且包括a和b的随机整数"
   ]
  },
  {
   "cell_type": "code",
   "execution_count": 16,
   "metadata": {},
   "outputs": [],
   "source": [
    "import random"
   ]
  },
  {
   "cell_type": "code",
   "execution_count": 17,
   "metadata": {},
   "outputs": [
    {
     "data": {
      "text/plain": [
       "1"
      ]
     },
     "execution_count": 17,
     "metadata": {},
     "output_type": "execute_result"
    }
   ],
   "source": [
    "random.randint(0,1)"
   ]
  },
  {
   "cell_type": "markdown",
   "metadata": {},
   "source": [
    "产生一个随机数，你去输入，如果你输入的数大于随机数，那么就告诉你太大了，反之，太小了，\n",
    "然后你一直输入，知道它满意为止"
   ]
  },
  {
   "cell_type": "code",
   "execution_count": 37,
   "metadata": {},
   "outputs": [
    {
     "name": "stdout",
     "output_type": "stream",
     "text": [
      "请输入一个数3\n",
      "8\n",
      "太小了\n"
     ]
    }
   ],
   "source": [
    "a = eval(input('请输入一个数'))\n",
    "b = (random.randint(1,10))\n",
    "\n",
    "print(b)\n",
    "if a > b:\n",
    "    print('太大了')\n",
    "elif a<b:\n",
    "    print('太小了')\n",
    "else:\n",
    "    print(\"对了\")\n"
   ]
  },
  {
   "cell_type": "code",
   "execution_count": 42,
   "metadata": {},
   "outputs": [
    {
     "name": "stdout",
     "output_type": "stream",
     "text": [
      "请输入一个数2\n",
      "10\n",
      "太小了\n",
      "请输入一个数10\n",
      "10\n",
      "对了\n"
     ]
    }
   ],
   "source": [
    "for i in range(5):#循环5次\n",
    "    a = eval(input('请输入一个数'))\n",
    "    b = (random.randint(1,10))\n",
    "    print(b)\n",
    "    if a > b:\n",
    "        print('太大了')\n",
    "    if a<b:\n",
    "        print('太小了')\n",
    "    if a==b:\n",
    "        print(\"对了\")\n",
    "        break"
   ]
  },
  {
   "cell_type": "markdown",
   "metadata": {},
   "source": [
    "##  其他random方法\n",
    "- random.random 返回0.0到1.0之间前闭后开区间的随机浮点\n",
    "- random.randrange(a,b) 前闭后开"
   ]
  },
  {
   "cell_type": "code",
   "execution_count": 43,
   "metadata": {},
   "outputs": [
    {
     "data": {
      "text/plain": [
       "0.7451086473667543"
      ]
     },
     "execution_count": 43,
     "metadata": {},
     "output_type": "execute_result"
    }
   ],
   "source": [
    "random.random()"
   ]
  },
  {
   "cell_type": "code",
   "execution_count": null,
   "metadata": {},
   "outputs": [],
   "source": []
  },
  {
   "cell_type": "markdown",
   "metadata": {},
   "source": [
    "## EP：\n",
    "- 产生两个随机整数number1和number2，然后显示给用户，使用户输入数字的和，并判定其是否正确\n",
    "- 进阶:写一个随机序号点名程序"
   ]
  },
  {
   "cell_type": "code",
   "execution_count": null,
   "metadata": {},
   "outputs": [],
   "source": [
    "number1 = random.randrange(1,6)\n",
    "number2 = random.randrange(1,10)\n",
    "print(number1,number2)\n",
    "sum_ = eval(input('>>'))\n",
    "if  sum_ ==(number1,number2):\n",
    "    print('correct')\n",
    "else:\n",
    "    print('sorry')"
   ]
  },
  {
   "cell_type": "code",
   "execution_count": null,
   "metadata": {},
   "outputs": [],
   "source": [
    "import random\n",
    "number1=random.randint(0,10)\n",
    "number2=random.randint(0,10)\n",
    "print(number1,number2)\n",
    "sum=eval(input('请输入和:'))\n",
    "number=number1+number2\n",
    "if sum==number:\n",
    "    print('正确')\n",
    "else:\n",
    "    print('不正确')"
   ]
  },
  {
   "cell_type": "markdown",
   "metadata": {},
   "source": [
    "## if语句\n",
    "- 如果条件正确就执行一个单向if语句，亦即当条件为真的时候才执行if内部的语句\n",
    "- Python有很多选择语句:\n",
    "> - 单向if \n",
    "  - 双向if-else\n",
    "  - 嵌套if\n",
    "  - 多向if-elif-else\n",
    "  \n",
    "- 注意：当语句含有子语句的时候，那么一定至少要有一个缩进，也就是说如果有儿子存在，那么一定要缩进\n",
    "- 切记不可tab键和space混用，单用tab 或者 space\n",
    "- 当你输出的结果是无论if是否为真时都需要显示时，语句应该与if对齐"
   ]
  },
  {
   "cell_type": "code",
   "execution_count": 1,
   "metadata": {},
   "outputs": [
    {
     "name": "stdout",
     "output_type": "stream",
     "text": [
      "年轻嘛[y/n]y\n",
      "帅否[y/n]y\n",
      "有没有老婆y/ny\n",
      "回家的诱惑\n"
     ]
    }
   ],
   "source": [
    "age = input('年轻嘛[y/n]')\n",
    "if age == 'y':\n",
    "    handsome = input('帅否[y/n]')\n",
    "    if handsome == 'y':\n",
    "        wife = input('有没有老婆y/n')\n",
    "        if wife == 'y':\n",
    "            print('回家的诱惑')\n",
    "        else:\n",
    "            print('立马结婚')\n",
    "    else:\n",
    "        print('考虑一下')\n",
    "else:\n",
    "    print('bey')"
   ]
  },
  {
   "cell_type": "markdown",
   "metadata": {},
   "source": [
    "## EP：\n",
    "- 用户输入一个数字，判断其实奇数还是偶数\n",
    "- 进阶：可以查看下4.5实例研究猜生日"
   ]
  },
  {
   "cell_type": "markdown",
   "metadata": {},
   "source": [
    "## 双向if-else 语句\n",
    "- 如果条件为真，那么走if内部语句，否则走else内部语句"
   ]
  },
  {
   "cell_type": "markdown",
   "metadata": {},
   "source": [
    "## EP：\n",
    "- 产生两个随机整数number1和number2，然后显示给用户，使用户输入数字，并判定其是否正确,如果正确打印“you‘re correct”，否则打印正确错误"
   ]
  },
  {
   "cell_type": "markdown",
   "metadata": {},
   "source": [
    "## 嵌套if 和多向if-elif-else\n",
    "![](../Photo/35.png)"
   ]
  },
  {
   "cell_type": "markdown",
   "metadata": {},
   "source": [
    "## EP：\n",
    "- 提示用户输入一个年份，然后显示表示这一年的动物\n",
    "![](../Photo/36.png)\n",
    "- 计算身体质量指数的程序\n",
    "- BMI = 以千克为单位的体重除以以米为单位的身高的平方\n",
    "![](../Photo/37.png)"
   ]
  },
  {
   "cell_type": "code",
   "execution_count": 6,
   "metadata": {},
   "outputs": [],
   "source": [
    "import math"
   ]
  },
  {
   "cell_type": "code",
   "execution_count": 9,
   "metadata": {},
   "outputs": [
    {
     "name": "stdout",
     "output_type": "stream",
     "text": [
      "请输入体重（kg）：65\n",
      "请输入身高（m）：1.68\n",
      "标准\n"
     ]
    }
   ],
   "source": [
    "weigh = eval(input('请输入体重（kg）：'))\n",
    "high = eval(input('请输入身高（m）：'))\n",
    "BMI = weigh / math.pow(high,2)\n",
    "if BMI < 18.5:\n",
    "    res = \"超轻\"\n",
    "elif 18.5<=BMI<25.0:\n",
    "    res = \"标准\"\n",
    "elif 25.0<=BMI<30.0:\n",
    "    res = \"超重\"\n",
    "else:\n",
    "    print (\"痴肥\")\n",
    "print(res)"
   ]
  },
  {
   "cell_type": "code",
   "execution_count": 10,
   "metadata": {},
   "outputs": [
    {
     "name": "stdout",
     "output_type": "stream",
     "text": [
      "请输入体重（kg）：65\n",
      "请输入身高（m）：1.68\n",
      "标准\n"
     ]
    }
   ],
   "source": [
    "weigh = eval(input('请输入体重（kg）：'))\n",
    "high = eval(input('请输入身高（m）：'))\n",
    "BMI = weigh / math.pow(high,2)\n",
    "if BMI < 18.5:\n",
    "    res = \"超轻\"\n",
    "elif 18.5<=BMI<25.0:\n",
    "    res = \"标准\"\n",
    "elif 25.0<=BMI<30.0:\n",
    "    res = \"超重\"\n",
    "elif 30<=BMI:\n",
    "    res = \"痴肥\"\n",
    "print(res)"
   ]
  },
  {
   "cell_type": "code",
   "execution_count": 5,
   "metadata": {},
   "outputs": [
    {
     "name": "stdout",
     "output_type": "stream",
     "text": [
      "输入年份：1998\n",
      "hu\n"
     ]
    }
   ],
   "source": [
    "year = eval(input('输入年份：'))\n",
    "if year % 12 == 0 :\n",
    "    res = \"hou\"\n",
    "elif year % 12 ==  1:\n",
    "    res = \"ji\"\n",
    "elif year % 12 ==  2:\n",
    "    res = \"gou\"\n",
    "elif year % 12 ==  3:\n",
    "    res =\"zhu\"\n",
    "elif year % 12 ==  4:\n",
    "    res =\"shu\"\n",
    "elif year % 12 == 5 :\n",
    "    res =\"nv\"\n",
    "elif year % 12 ==  6:\n",
    "    res =\"hu\"\n",
    "elif year % 12 ==  7:\n",
    "    res =\"tu\"\n",
    "elif year % 12 ==  8:\n",
    "    res =\"long\"\n",
    "elif year % 12 ==  9:\n",
    "    res =\"she\"\n",
    "elif year % 12 == 10:\n",
    "    res =\"ma\"\n",
    "elif year % 12 ==  11:\n",
    "    res =\"yang\"\n",
    "\n",
    "print(res)"
   ]
  },
  {
   "cell_type": "markdown",
   "metadata": {},
   "source": [
    "## 逻辑运算符\n",
    "![](../Photo/38.png)"
   ]
  },
  {
   "cell_type": "markdown",
   "metadata": {},
   "source": [
    "![](../Photo/39.png)\n",
    "![](../Photo/40.png)"
   ]
  },
  {
   "cell_type": "markdown",
   "metadata": {},
   "source": [
    "## EP：\n",
    "- 判定闰年：一个年份如果能被4整除但不能被100整除，或者能被400整除，那么这个年份就是闰年\n",
    "- 提示用户输入一个年份，并返回是否是闰年\n",
    "- 提示用户输入一个数字，判断其是否为水仙花数"
   ]
  },
  {
   "cell_type": "code",
   "execution_count": 29,
   "metadata": {},
   "outputs": [
    {
     "name": "stdout",
     "output_type": "stream",
     "text": [
      "输入一个年份：1998\n",
      "no\n"
     ]
    }
   ],
   "source": [
    "year = eval(input('输入一个年份：'))\n",
    "if (year % 4==0 and year %100!=0) or (year % 400==0):\n",
    "    print('是')       \n",
    "else:\n",
    "    print('no')\n"
   ]
  },
  {
   "cell_type": "code",
   "execution_count": 30,
   "metadata": {},
   "outputs": [
    {
     "name": "stdout",
     "output_type": "stream",
     "text": [
      "输入一个数字：333\n",
      "no\n"
     ]
    }
   ],
   "source": [
    "number = eval(input('输入一个数字：'))\n",
    "bai = number // 100\n",
    "shi = number // 10 % 10\n",
    "ge = number % 10\n",
    "if bai ** 3 + shi ** 3+ ge ** 3 == number:\n",
    "    print('shuixianhua')\n",
    "else:\n",
    "    print('no')"
   ]
  },
  {
   "cell_type": "markdown",
   "metadata": {},
   "source": [
    "## 实例研究：彩票\n",
    "![](../Photo/41.png)"
   ]
  },
  {
   "cell_type": "code",
   "execution_count": 34,
   "metadata": {},
   "outputs": [],
   "source": [
    "import random"
   ]
  },
  {
   "cell_type": "code",
   "execution_count": 41,
   "metadata": {},
   "outputs": [
    {
     "name": "stdout",
     "output_type": "stream",
     "text": [
      "32\n",
      ">>32\n",
      "10000\n"
     ]
    }
   ],
   "source": [
    "number = random.randint(10,99)\n",
    "print(number)\n",
    "N = input('>>')\n",
    "number_shi = number // 10\n",
    "number_ge = number % 10\n",
    "if N[0] == '0':\n",
    "    N_shi = 0\n",
    "else:\n",
    "    N_shi = int(N) // 10\n",
    "    N_ge = int(N) % 10\n",
    "if number == int(N):\n",
    "    print('10000')\n",
    "#elif(number_shi==N_shi)\n",
    "elif number_shi + number_ge==N_shi + N_ge:\n",
    "    print('3000')\n",
    "elif (number_ge ==N_ge or number_ge == N_shi) or (number_shi == N_ge or number_shi == N_shi):\n",
    "    print('1000')"
   ]
  },
  {
   "cell_type": "markdown",
   "metadata": {},
   "source": [
    "# Homework\n",
    "- 1\n",
    "![](../Photo/42.png)"
   ]
  },
  {
   "cell_type": "code",
   "execution_count": 5,
   "metadata": {},
   "outputs": [],
   "source": [
    "import math"
   ]
  },
  {
   "cell_type": "code",
   "execution_count": 10,
   "metadata": {},
   "outputs": [
    {
     "name": "stdout",
     "output_type": "stream",
     "text": [
      "请输入a的值：1\n",
      "请输入b的值：3\n",
      "请输入c的值：1\n",
      "-0.38 -2.62\n"
     ]
    }
   ],
   "source": [
    "#代数方面：解一元二次方程\n",
    "import math\n",
    "a = eval(input('请输入a的值：'))\n",
    "b = eval(input('请输入b的值：'))\n",
    "c = eval(input('请输入c的值：'))\n",
    "d = math.pow(b,2) - 4 * a * c\n",
    "r1 = (-b + math.pow(d,1/2))/(2 * a)\n",
    "r2 = (-b - math.pow(d,1/2))/(2 * a)\n",
    "r3 = (-b)/(2 * a)\n",
    "if d > 0:\n",
    "    print(round(r1,2),round(r2,2))\n",
    "elif d == 0:\n",
    "    print(r3)\n",
    "else:\n",
    "    print('没有实数根')"
   ]
  },
  {
   "cell_type": "markdown",
   "metadata": {},
   "source": [
    "- 2\n",
    "![](../Photo/43.png)"
   ]
  },
  {
   "cell_type": "code",
   "execution_count": 14,
   "metadata": {},
   "outputs": [
    {
     "name": "stdout",
     "output_type": "stream",
     "text": [
      "3 94\n",
      "请输入这两个整数的和：90\n",
      "报告结果为假！\n"
     ]
    }
   ],
   "source": [
    "#游戏：学习加法\n",
    "import random\n",
    "number1 = random.randint(1,99)\n",
    "number2 = random.randint(1,99)\n",
    "number4 = number1 + number2\n",
    "print(number1,number2)\n",
    "number3 = eval(input('请输入这两个整数的和：'))\n",
    "if number3 == number4:\n",
    "    print('报告结果为真！')\n",
    "else:\n",
    "    print('报告结果为假！')"
   ]
  },
  {
   "cell_type": "markdown",
   "metadata": {},
   "source": [
    "- 3\n",
    "![](../Photo/44.png)"
   ]
  },
  {
   "cell_type": "code",
   "execution_count": 4,
   "metadata": {},
   "outputs": [
    {
     "name": "stdout",
     "output_type": "stream",
     "text": [
      "请输入今天星期几（如：1）0\n",
      "请输入今天之后到未来某天的天数：31\n",
      "今天星期三\n"
     ]
    }
   ],
   "source": [
    "#找未来数据\n",
    "number1 = eval(input('请输入今天星期几（如：1）'))\n",
    "number2 = eval(input('请输入今天之后到未来某天的天数：'))\n",
    "number3 = (number1 + number2 % 7) % 7\n",
    "if number3 == 1:\n",
    "    print(\"今天星期一\")\n",
    "elif number3 == 2:\n",
    "    print(\"今天星期二\")\n",
    "elif number3 == 3:\n",
    "    print(\"今天星期三\")\n",
    "elif number3 == 4:\n",
    "    print(\"今天星期四\")\n",
    "elif number3 == 5:\n",
    "    print(\"今天星期五\")\n",
    "elif number3 == 6:\n",
    "    print(\"今天星期六\")\n",
    "elif number3 == 0:\n",
    "    print(\"今天星期日\")\n",
    "    \n",
    "\n",
    "\n"
   ]
  },
  {
   "cell_type": "markdown",
   "metadata": {},
   "source": [
    "- 4\n",
    "![](../Photo/45.png)"
   ]
  },
  {
   "cell_type": "code",
   "execution_count": 44,
   "metadata": {},
   "outputs": [
    {
     "name": "stdout",
     "output_type": "stream",
     "text": [
      "x1,x2,x32,5,4\n",
      "5 4 2\n"
     ]
    }
   ],
   "source": [
    "#对三个整数排序\n",
    "x1,x2,x3 = eval(input('x1,x2,x3'))\n",
    "if x1 > x2 and x2 > x3:\n",
    "    print(x1,x2,x3)\n",
    "elif x1 < x2 and x2 < x3:\n",
    "    print(x3,x2,x1)\n",
    "elif x1 > x3 and x3 > x2:\n",
    "    print(x1,x3,x2)\n",
    "elif x2 > x3 and x3 > x1:\n",
    "    print(x2,x3,x1)\n",
    "elif x2 > x1 and x1 > x3:\n",
    "    print(x2,x1,x3)\n",
    "elif x3 > x1 and x1 > x2:\n",
    "    print(x3,x1,x2)\n",
    "\n"
   ]
  },
  {
   "cell_type": "markdown",
   "metadata": {},
   "source": [
    "- 5\n",
    "![](../Photo/46.png)"
   ]
  },
  {
   "cell_type": "code",
   "execution_count": 12,
   "metadata": {},
   "outputs": [
    {
     "name": "stdout",
     "output_type": "stream",
     "text": [
      "请输入重量和价钱(x1,y1):50,24.59\n",
      "请输入重量和价钱(x2,y2):25,11.99\n",
      "第一种价钱更好\n"
     ]
    }
   ],
   "source": [
    "#金融方面;比较价钱 \n",
    "x1,y1 = eval(input('请输入重量和价钱(x1,y1):'))\n",
    "x2,y2 = eval(input('请输入重量和价钱(x2,y2):'))\n",
    "number1 = y1 / x1\n",
    "number2 = y2 / x1\n",
    "if (number1 - number2) > 0:\n",
    "    print('第一种价钱更好')\n",
    "elif number1 == number2:\n",
    "    print('都可以！')\n",
    "else:\n",
    "    print('第二种价钱更好')\n"
   ]
  },
  {
   "cell_type": "markdown",
   "metadata": {},
   "source": [
    "- 6\n",
    "![](../Photo/47.png)"
   ]
  },
  {
   "cell_type": "code",
   "execution_count": 18,
   "metadata": {},
   "outputs": [
    {
     "name": "stdout",
     "output_type": "stream",
     "text": [
      "输入一个年份(例：2000，2)：1998,3\n",
      "1998 年 3 月有31天\n"
     ]
    }
   ],
   "source": [
    "#找出一个月中的天数\n",
    "year,x = eval(input('输入一个年份(例：2000，2)：'))\n",
    "if x == 1 :\n",
    "    print(year,'年',x,'月有31天')\n",
    "elif x == 3 :\n",
    "    print(year,'年',x,'月有31天')\n",
    "elif x == 4 :\n",
    "    print(year,'年',x,'月有30天')\n",
    "elif x == 5 :\n",
    "    print(year,'年',x,'月有31天')\n",
    "elif x == 6 :\n",
    "    print(year,'年',x,'月有30天')\n",
    "elif x == 7 :\n",
    "    print(year,'年',x,'月有31天')\n",
    "elif x == 8 :\n",
    "    print(year,'年',x,'月有31天')\n",
    "elif x == 9 :\n",
    "    print(year,'年',x,'月有30天')\n",
    "elif x ==10 :\n",
    "    print(year,'年',x,'月有31天')\n",
    "elif x == 11 :\n",
    "    print(year,'年',x,'月有30天')\n",
    "elif x ==12 :\n",
    "    print(year,'年',x,'月有31天')\n",
    "elif (year % 4==0 and year %100!=0) or (year % 400==0):\n",
    "    print(year,'年',x,'月有29天')       \n",
    "else:\n",
    "    print(year,'年',x,'月有28天')"
   ]
  },
  {
   "cell_type": "markdown",
   "metadata": {},
   "source": [
    "- 7\n",
    "![](../Photo/48.png)"
   ]
  },
  {
   "cell_type": "code",
   "execution_count": 24,
   "metadata": {},
   "outputs": [
    {
     "name": "stdout",
     "output_type": "stream",
     "text": [
      "请猜测正反（0为正，1为反）：0\n",
      "1\n",
      "猜测值是错误的！\n"
     ]
    }
   ],
   "source": [
    "#游戏：头或尾\n",
    "import random\n",
    "number1 = eval(input('请猜测正反（0为正，1为反）：'))\n",
    "number2 = random.randint(0,1)\n",
    "print(number2)\n",
    "if number1 == number2 :\n",
    "    print('猜测值是正确的！')\n",
    "else:\n",
    "    print('猜测值是错误的！')"
   ]
  },
  {
   "cell_type": "markdown",
   "metadata": {},
   "source": [
    "- 8\n",
    "![](../Photo/49.png)"
   ]
  },
  {
   "cell_type": "code",
   "execution_count": 26,
   "metadata": {},
   "outputs": [
    {
     "name": "stdout",
     "output_type": "stream",
     "text": [
      "请输入剪刀、石头、布（0，1，2）（例：x）：1\n",
      "0\n",
      "你赢了！\n"
     ]
    }
   ],
   "source": [
    "#游戏：剪刀、石头、布\n",
    "x = eval(input('请输入剪刀、石头、布（0，1，2）（例：x）：'))\n",
    "y = random.randint(0,2)\n",
    "print(y)\n",
    "if x == 0 and y == 2:\n",
    "    print('你赢了！')\n",
    "elif x == 2 and y == 0:\n",
    "    print('计算机赢！')\n",
    "elif x == 0 and y == 1:\n",
    "    print('计算机赢！')\n",
    "elif x == 1 and y == 0:    \n",
    "    print('你赢了！')\n",
    "elif x == 1 and y == 2:     \n",
    "    print('计算机赢！')\n",
    "elif x == 2 and y == 1:\n",
    "    print('你赢了！')\n",
    "elif x == y:\n",
    "    print('平局！')   "
   ]
  },
  {
   "cell_type": "markdown",
   "metadata": {},
   "source": [
    "- 9\n",
    "![](../Photo/50.png)"
   ]
  },
  {
   "cell_type": "code",
   "execution_count": null,
   "metadata": {},
   "outputs": [],
   "source": [
    "#科学问题：一周的星期几\n",
    "\n",
    "\n",
    "\n"
   ]
  },
  {
   "cell_type": "markdown",
   "metadata": {},
   "source": [
    "- 10\n",
    "![](../Photo/51.png)"
   ]
  },
  {
   "cell_type": "code",
   "execution_count": 41,
   "metadata": {},
   "outputs": [
    {
     "name": "stdout",
     "output_type": "stream",
     "text": [
      "方块Jack\n"
     ]
    }
   ],
   "source": [
    "#游戏：选出一张牌\n",
    "se = random.randint(1,4)\n",
    "if se == 1:\n",
    "    print('梅花',end='')\n",
    "elif se == 2:\n",
    "    print('红桃',end='')\n",
    "elif se == 3:\n",
    "    print('方块',end='')\n",
    "elif se == 4:\n",
    "    print('黑桃',end='')\n",
    "number = random.randint(1,13)\n",
    "if number == 1:\n",
    "    print(number )\n",
    "elif number == 2:\n",
    "    print(number,)\n",
    "elif number == 3:\n",
    "    print(number,)\n",
    "elif number == 4:\n",
    "    print(number,)\n",
    "elif number == 5:\n",
    "    print(number,)\n",
    "elif number == 6:\n",
    "    print(number,)\n",
    "elif number == 7:\n",
    "    print(number,)\n",
    "elif number == 8:\n",
    "    print(number,)\n",
    "elif number == 9:\n",
    "    print(number,)\n",
    "elif number == 10:\n",
    "    print(number,)\n",
    "elif number == 11:\n",
    "    print('Jack')\n",
    "elif number == 12:\n",
    "    print('Queen')\n",
    "elif number == 13:\n",
    "    print('King')"
   ]
  },
  {
   "cell_type": "markdown",
   "metadata": {},
   "source": [
    "- 11\n",
    "![](../Photo/52.png)"
   ]
  },
  {
   "cell_type": "code",
   "execution_count": 47,
   "metadata": {},
   "outputs": [
    {
     "data": {
      "text/plain": [
       "3"
      ]
     },
     "execution_count": 47,
     "metadata": {},
     "output_type": "execute_result"
    }
   ],
   "source": [
    "(123%100)%10"
   ]
  },
  {
   "cell_type": "code",
   "execution_count": 51,
   "metadata": {},
   "outputs": [
    {
     "name": "stdout",
     "output_type": "stream",
     "text": [
      "请输入一个三位数：123\n",
      "123 不是回文数\n"
     ]
    }
   ],
   "source": [
    "#回文数\n",
    "number = eval(input('请输入一个三位数：'))\n",
    "number1 = number // 100\n",
    "number2 = (number % 10) % 10\n",
    "if number1 == number2 :\n",
    "    print(number,'这个数是回文数！')\n",
    "else:\n",
    "    print(number,'不是回文数')"
   ]
  },
  {
   "cell_type": "markdown",
   "metadata": {},
   "source": [
    "- 12\n",
    "![](../Photo/53.png)"
   ]
  },
  {
   "cell_type": "code",
   "execution_count": 49,
   "metadata": {},
   "outputs": [
    {
     "name": "stdout",
     "output_type": "stream",
     "text": [
      "请输入三角形的三个边：3,4,5\n",
      "12\n"
     ]
    }
   ],
   "source": [
    "#计算三角形的周长\n",
    "x1,x2,x3 = eval(input('请输入三角形的三个边：'))\n",
    "if x1 < (x2 + x3) and x2 < x1 + x3 and x3 < x1 + x2:\n",
    "    print(x1 + x2 + x3)\n",
    "else:   \n",
    "    print('这个输入是非法的！')\n"
   ]
  }
 ],
 "metadata": {
  "kernelspec": {
   "display_name": "Python 3",
   "language": "python",
   "name": "python3"
  },
  "language_info": {
   "codemirror_mode": {
    "name": "ipython",
    "version": 3
   },
   "file_extension": ".py",
   "mimetype": "text/x-python",
   "name": "python",
   "nbconvert_exporter": "python",
   "pygments_lexer": "ipython3",
   "version": "3.7.3"
  }
 },
 "nbformat": 4,
 "nbformat_minor": 2
}
