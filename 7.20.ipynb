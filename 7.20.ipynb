{
 "cells": [
  {
   "cell_type": "markdown",
   "metadata": {},
   "source": [
    "# 函数\n",
    "\n",
    "- 函数可以用来定义可重复代码，组织和简化\n",
    "- 一般来说一个函数在实际开发中为一个小功能\n",
    "- 一个类为一个大功能\n",
    "- 同样函数的长度不要超过一屏"
   ]
  },
  {
   "cell_type": "raw",
   "metadata": {},
   "source": [
    "python中的所有函数实际上都是有返回值的(return None)。\n",
    "如果你没有设置return，那么Python将不显示None。\n",
    "如果你设置return，那么将返回return这个值。"
   ]
  },
  {
   "cell_type": "markdown",
   "metadata": {},
   "source": [
    "## 定义一个函数\n",
    "\n",
    "def function_name(list of parameters):\n",
    "    \n",
    "    do something\n",
    "![](../Photo/69.png)\n",
    "- 以前使用的random 或者range 或者print.. 其实都是函数或者类"
   ]
  },
  {
   "cell_type": "code",
   "execution_count": 16,
   "metadata": {},
   "outputs": [],
   "source": [
    "def max_(num1,num2):\n",
    "    if num1>num2:\n",
    "        result = num1\n",
    "    else:\n",
    "        result = num2\n",
    "    return result"
   ]
  },
  {
   "cell_type": "code",
   "execution_count": null,
   "metadata": {},
   "outputs": [],
   "source": [
    "def max"
   ]
  },
  {
   "cell_type": "code",
   "execution_count": 12,
   "metadata": {},
   "outputs": [
    {
     "data": {
      "text/plain": [
       "4"
      ]
     },
     "execution_count": 12,
     "metadata": {},
     "output_type": "execute_result"
    }
   ],
   "source": [
    "max_(2,4)"
   ]
  },
  {
   "cell_type": "code",
   "execution_count": 1,
   "metadata": {},
   "outputs": [
    {
     "data": {
      "text/plain": [
       "3"
      ]
     },
     "execution_count": 1,
     "metadata": {},
     "output_type": "execute_result"
    }
   ],
   "source": [
    "max([1,2,3])"
   ]
  },
  {
   "cell_type": "code",
   "execution_count": 2,
   "metadata": {},
   "outputs": [
    {
     "data": {
      "text/plain": [
       "6"
      ]
     },
     "execution_count": 2,
     "metadata": {},
     "output_type": "execute_result"
    }
   ],
   "source": [
    "max(1,2,3,4,6,4,5)"
   ]
  },
  {
   "cell_type": "code",
   "execution_count": 2,
   "metadata": {},
   "outputs": [],
   "source": [
    "def Good(name):\n",
    "    print('%s is a bad man !'%name)"
   ]
  },
  {
   "cell_type": "code",
   "execution_count": 5,
   "metadata": {},
   "outputs": [
    {
     "name": "stdout",
     "output_type": "stream",
     "text": [
      "joker is a bad man !\n"
     ]
    }
   ],
   "source": [
    "Good('joker')"
   ]
  },
  {
   "cell_type": "raw",
   "metadata": {},
   "source": [
    "函数的参数如果有默认值的情况，当你调用该函数的时候。\n",
    "可以不给予参数值，那么就会走该参数的默认值。\n",
    "否则的话，就走你给予的参数值。"
   ]
  },
  {
   "cell_type": "markdown",
   "metadata": {},
   "source": [
    "## 调用一个函数\n",
    "- functionName()\n",
    "- \"()\" 就代表调用"
   ]
  },
  {
   "cell_type": "code",
   "execution_count": null,
   "metadata": {},
   "outputs": [],
   "source": []
  },
  {
   "cell_type": "markdown",
   "metadata": {},
   "source": [
    "![](../Photo/70.png)"
   ]
  },
  {
   "cell_type": "markdown",
   "metadata": {},
   "source": [
    "## 带返回值和不带返回值的函数\n",
    "- return 返回的内容\n",
    "- return 返回多个值\n",
    "- 一般情况下，在多个函数协同完成一个功能的时候，那么将会有返回值"
   ]
  },
  {
   "cell_type": "markdown",
   "metadata": {},
   "source": [
    "![](../Photo/71.png)\n",
    "\n",
    "- 当然也可以自定义返回None"
   ]
  },
  {
   "cell_type": "markdown",
   "metadata": {},
   "source": [
    "## EP：\n",
    "![](../Photo/72.png)"
   ]
  },
  {
   "cell_type": "code",
   "execution_count": 3,
   "metadata": {},
   "outputs": [],
   "source": [
    "def fun1():\n",
    "    print ('hahaha')\n",
    "def fun2():\n",
    "    print()"
   ]
  },
  {
   "cell_type": "code",
   "execution_count": null,
   "metadata": {},
   "outputs": [],
   "source": []
  },
  {
   "cell_type": "code",
   "execution_count": 4,
   "metadata": {},
   "outputs": [],
   "source": [
    "#奇数偶数\n",
    "def haha(num):\n",
    "    if num % 2 == 0:\n",
    "        print ('偶数')\n",
    "    else:\n",
    "        print('奇数')"
   ]
  },
  {
   "cell_type": "code",
   "execution_count": 6,
   "metadata": {},
   "outputs": [
    {
     "name": "stdout",
     "output_type": "stream",
     "text": [
      "奇数\n"
     ]
    }
   ],
   "source": [
    "haha(7)"
   ]
  },
  {
   "cell_type": "code",
   "execution_count": 11,
   "metadata": {},
   "outputs": [],
   "source": [
    "#猜大小\n",
    "def haha(a,b):\n",
    "    if a > b:\n",
    "        result = a\n",
    "    elif a < b:\n",
    "        result = b\n",
    "    else:\n",
    "        result = (a==b)\n",
    "    return result"
   ]
  },
  {
   "cell_type": "code",
   "execution_count": 9,
   "metadata": {},
   "outputs": [
    {
     "data": {
      "text/plain": [
       "True"
      ]
     },
     "execution_count": 9,
     "metadata": {},
     "output_type": "execute_result"
    }
   ],
   "source": [
    "haha(3,3)"
   ]
  },
  {
   "cell_type": "code",
   "execution_count": null,
   "metadata": {},
   "outputs": [],
   "source": [
    "haha(1234)"
   ]
  },
  {
   "cell_type": "code",
   "execution_count": 13,
   "metadata": {},
   "outputs": [],
   "source": [
    "#验证码\n",
    "import random\n",
    "def haha(abcd):\n",
    "    while True:\n",
    "        a = chr(random.randint(65,90))\n",
    "        b = chr(random.randint(97,122))\n",
    "        c = chr(random.randint(65,90))\n",
    "        d = chr(random.randint(97,122))\n",
    "        e  = [a,b,c,d]\n",
    "        random.shuffle(e)\n",
    "        N = \"\".join(e)\n",
    "        print(N)\n",
    "        me = input('请输入验证码：')\n",
    "\n",
    "        if me.lower() == e.lower():\n",
    "            print('验证码正确')\n",
    "            break\n",
    "        else:\n",
    "            print('验证码错误')"
   ]
  },
  {
   "cell_type": "code",
   "execution_count": null,
   "metadata": {},
   "outputs": [
    {
     "name": "stdout",
     "output_type": "stream",
     "text": [
      "MXxw\n"
     ]
    }
   ],
   "source": [
    "haha(1234)"
   ]
  },
  {
   "cell_type": "markdown",
   "metadata": {},
   "source": [
    "# KNN算法\n",
    "# 读取图片，进行对比分析\n",
    "import matplotlib.pyplot as plt \n",
    "\n",
    "res = plt.imread('D:/rabbit.jpg')\n",
    "print(res)"
   ]
  },
  {
   "cell_type": "code",
   "execution_count": null,
   "metadata": {},
   "outputs": [],
   "source": []
  },
  {
   "cell_type": "markdown",
   "metadata": {},
   "source": [
    "## 类型和关键字参数\n",
    "- 普通参数\n",
    "- 多个参数\n",
    "- 默认值参数\n",
    "- 不定长参数"
   ]
  },
  {
   "cell_type": "markdown",
   "metadata": {},
   "source": [
    "## 普通参数"
   ]
  },
  {
   "cell_type": "markdown",
   "metadata": {},
   "source": [
    "## 多个参数"
   ]
  },
  {
   "cell_type": "markdown",
   "metadata": {},
   "source": [
    "## 默认值参数\n",
    "- 默认参数只能放在最后  *之后的必须强制命名传入参数,* 之后的变量必须带参数名"
   ]
  },
  {
   "cell_type": "markdown",
   "metadata": {},
   "source": [
    "# 强制命名\n",
    "- *之后的必须强制命名传入参数,* 之后的变量必须带参数名"
   ]
  },
  {
   "cell_type": "code",
   "execution_count": 2,
   "metadata": {},
   "outputs": [
    {
     "name": "stdout",
     "output_type": "stream",
     "text": [
      "joker\n"
     ]
    }
   ],
   "source": [
    "def haha(*,name):#*，强制命名，调用时必须带名字调用\n",
    "    print(name)\n",
    "haha(name='joker')"
   ]
  },
  {
   "cell_type": "markdown",
   "metadata": {},
   "source": [
    "## 不定长参数\n",
    "- \\*args, 不定长，输入多少参数都可以，不写入参数也可以\n",
    "> - 可以输入多个参数\n",
    "  - 返回输出结果的类型是元组类型，元组可以迭代，输入多少个参数都可以迭代来取出\n",
    "  - args 名字是可以修改的，只是通常约定为args\n",
    "- \\**kwargs, 不定长第二种\n",
    "> - 可以输入多个参数，但需要带参数名称\n",
    "  - 返回的数据类型是字典\n",
    "  - 输入的一定要是表达式(键值对)\n",
    "- 一般大的项目传入参数时，使用config文件一次写入所有的参数"
   ]
  },
  {
   "cell_type": "code",
   "execution_count": 19,
   "metadata": {},
   "outputs": [
    {
     "name": "stdout",
     "output_type": "stream",
     "text": [
      "{'a': 100, 'b': 100}\n",
      "()\n"
     ]
    }
   ],
   "source": [
    "def yy(*args,**kwargs):\n",
    "    print(kwargs)\n",
    "    print(args)\n",
    "yy(a=100,b=100)"
   ]
  },
  {
   "cell_type": "code",
   "execution_count": null,
   "metadata": {},
   "outputs": [],
   "source": []
  },
  {
   "cell_type": "code",
   "execution_count": 3,
   "metadata": {},
   "outputs": [
    {
     "name": "stdout",
     "output_type": "stream",
     "text": [
      "(1, 2, 3)\n"
     ]
    }
   ],
   "source": [
    "def TT(*args):\n",
    "    print(args)\n",
    "TT(1,2,3)"
   ]
  },
  {
   "cell_type": "code",
   "execution_count": 4,
   "metadata": {},
   "outputs": [
    {
     "name": "stdout",
     "output_type": "stream",
     "text": [
      "()\n"
     ]
    }
   ],
   "source": [
    "TT()"
   ]
  },
  {
   "cell_type": "code",
   "execution_count": 7,
   "metadata": {},
   "outputs": [],
   "source": [
    "def max_(*args):\n",
    "    print(args)\n",
    "    a = 0\n",
    "    for i in args:\n",
    "        if i > a:\n",
    "            a = i\n",
    "    return a"
   ]
  },
  {
   "cell_type": "code",
   "execution_count": 8,
   "metadata": {},
   "outputs": [
    {
     "name": "stdout",
     "output_type": "stream",
     "text": [
      "(1, 2, 3, 4)\n"
     ]
    },
    {
     "data": {
      "text/plain": [
       "4"
      ]
     },
     "execution_count": 8,
     "metadata": {},
     "output_type": "execute_result"
    }
   ],
   "source": [
    "max_(1,2,3,4)"
   ]
  },
  {
   "cell_type": "code",
   "execution_count": 20,
   "metadata": {},
   "outputs": [],
   "source": [
    "def sum_(*args,A='sum'):\n",
    "    print(args)\n",
    "    a = 0\n",
    "    b = 0\n",
    "    for i in args:\n",
    "        a = a + i\n",
    "        b+=1\n",
    "    if A == \"sum\":\n",
    "        return a\n",
    "    elif A ==\"average\":\n",
    "        average=a/b\n",
    "        return average"
   ]
  },
  {
   "cell_type": "code",
   "execution_count": 21,
   "metadata": {},
   "outputs": [
    {
     "name": "stdout",
     "output_type": "stream",
     "text": [
      "(1, 2, 3)\n"
     ]
    },
    {
     "data": {
      "text/plain": [
       "2.0"
      ]
     },
     "execution_count": 21,
     "metadata": {},
     "output_type": "execute_result"
    }
   ],
   "source": [
    "sum_(1,2,3,A=\"average\")"
   ]
  },
  {
   "cell_type": "code",
   "execution_count": 10,
   "metadata": {},
   "outputs": [],
   "source": [
    "def average_(*args):\n",
    "    print(args)\n",
    "    a = 0\n",
    "    b = 0\n",
    "    for i in args:\n",
    "        a = a + i\n",
    "        b+=1\n",
    "        c=a/b\n",
    "    return c"
   ]
  },
  {
   "cell_type": "code",
   "execution_count": 11,
   "metadata": {},
   "outputs": [
    {
     "name": "stdout",
     "output_type": "stream",
     "text": [
      "(1, 2, 3, 4)\n"
     ]
    },
    {
     "data": {
      "text/plain": [
       "2.5"
      ]
     },
     "execution_count": 11,
     "metadata": {},
     "output_type": "execute_result"
    }
   ],
   "source": [
    "average_(1,2,3,4)"
   ]
  },
  {
   "cell_type": "code",
   "execution_count": 9,
   "metadata": {},
   "outputs": [],
   "source": [
    "def XX(str_):\n",
    "    print(str_)\n",
    "    shuzi = 0\n",
    "    xiaoxie = 0\n",
    "    daxie = 0\n",
    "    for i in str_:\n",
    "        a = ord(i)\n",
    "        if 47<= a<=57:\n",
    "            shuzi += 1\n",
    "        elif 97<= a<=122:\n",
    "            xiaoxie += 1\n",
    "        else:\n",
    "            daxie += 1\n",
    "    return shuzi,xiaoxie,daxie"
   ]
  },
  {
   "cell_type": "code",
   "execution_count": 10,
   "metadata": {},
   "outputs": [
    {
     "name": "stdout",
     "output_type": "stream",
     "text": [
      "qHHqdd1\n"
     ]
    },
    {
     "data": {
      "text/plain": [
       "(1, 4, 2)"
      ]
     },
     "execution_count": 10,
     "metadata": {},
     "output_type": "execute_result"
    }
   ],
   "source": [
    "XX('qHHqdd1')"
   ]
  },
  {
   "cell_type": "code",
   "execution_count": null,
   "metadata": {},
   "outputs": [],
   "source": [
    "#作业\n",
    "2,5\n",
    "2+22+222+2222+22222"
   ]
  },
  {
   "cell_type": "markdown",
   "metadata": {},
   "source": [
    "### \\**kwargs, 不定长第二种\n",
    "- 第二种不定长参数传入方法，使用字典数据传入\n",
    "- 写入参数时，必须先写\\*args, 再写\\**kwargs。 这是固定写法"
   ]
  },
  {
   "cell_type": "markdown",
   "metadata": {},
   "source": [
    "## 变量的作用域\n",
    "- 局部变量 local\n",
    "- 全局变量 global\n",
    "- globals 函数返回一个全局变量的字典，包括所有导入的变量\n",
    "- locals() 函数会以字典类型返回当前位置的全部局部变量。"
   ]
  },
  {
   "cell_type": "code",
   "execution_count": 21,
   "metadata": {},
   "outputs": [
    {
     "name": "stdout",
     "output_type": "stream",
     "text": [
      "1100\n"
     ]
    }
   ],
   "source": [
    "a = 1000\n",
    "B = 10\n",
    "def Y():\n",
    "    global a#全局变量，不使用前面的a=1000不能进入，声明全局变量\n",
    "    a+=100\n",
    "    print(a)\n",
    "Y()"
   ]
  },
  {
   "cell_type": "code",
   "execution_count": 22,
   "metadata": {},
   "outputs": [
    {
     "data": {
      "text/plain": [
       "{'__name__': '__main__',\n",
       " '__doc__': 'Automatically created module for IPython interactive environment',\n",
       " '__package__': None,\n",
       " '__loader__': None,\n",
       " '__spec__': None,\n",
       " '__builtin__': <module 'builtins' (built-in)>,\n",
       " '__builtins__': <module 'builtins' (built-in)>,\n",
       " '_ih': ['',\n",
       "  'def count_(*args):\\n    print(args)\\n    for i in args:\\n        a = ord(i)\\n        if a>=48 and a<=57:\\n            n += 1\\n        elif a>=97 and a<=122:\\n            s +=1\\n        else:\\n            m +=1\\n    return n,s,m',\n",
       "  'count_(1,2,3)',\n",
       "  'def count_(*args):\\n    eval(args)\\n    for i in args:\\n        a = ord(i)\\n        if a>=48 and a<=57:\\n            n += 1\\n        elif a>=97 and a<=122:\\n            s +=1\\n        else:\\n            m +=1\\n    return n,s,m',\n",
       "  'count_(1,2,3)',\n",
       "  'def count_(*args):\\n    for i in args:\\n        a = ord(i)\\n        if a>=48 and a<=57:\\n            n += 1\\n        elif a>=97 and a<=122:\\n            s +=1\\n        else:\\n            m +=1\\n    return n,s,m',\n",
       "  'count_(1,2,3)',\n",
       "  'count_(1)',\n",
       "  'def count_(*args):\\n    for i in args:\\n        a = ord(i)\\n        if a>=48 and a<=57:\\n            n += 1\\n        elif a>=97 and a<=122:\\n            s +=1\\n        else:\\n            m +=1\\n    return n,s,m',\n",
       "  'count_(1)',\n",
       "  'def average_(*args):\\n    print(args)\\n    a = 0\\n    b = 0\\n    for i in args:\\n        a = a + i\\n        b+=1\\n        c=a/b\\n    return c',\n",
       "  'average_(1,2,3,4)',\n",
       "  'def count_(*args):\\n    str(args)\\n    for i in args:\\n        a = ord(i)\\n        if a>=48 and a<=57:\\n            n += 1\\n        elif a>=97 and a<=122:\\n            s +=1\\n        else:\\n            m +=1\\n    return n,s,m',\n",
       "  'count_(1)',\n",
       "  '\\ndef printme( str ):\\n   # 打印任何传入的字符串\\n   print (str)\\n    return\\n \\n# 调用函数\\nprintme(\"我要调用用户自定义函数!\")\\nprintme(\"再次调用同一函数\")',\n",
       "  '\\ndef printme( str ):\\n   # 打印任何传入的字符串\\n    print (str)\\n    return\\n \\n# 调用函数\\nprintme(\"我要调用用户自定义函数!\")\\nprintme(\"再次调用同一函数\")',\n",
       "  'def count_(str):\\n    for i in str:\\n        a = ord(i)\\n        if a>=48 and a<=57:\\n            n += 1\\n        elif a>=97 and a<=122:\\n            s +=1\\n        else:\\n            m +=1\\n    return n,s,m',\n",
       "  'count_(1)',\n",
       "  'def yy(**jj):\\n    print(jj)\\nyy(a=100,b=100)',\n",
       "  'def yy(*args,**kwargs):\\n    print(kwargs)\\n    print(args)\\nyy(a=100,b=100)',\n",
       "  'a = 1000',\n",
       "  'a = 1000\\nB = 10\\ndef Y():\\n    global a\\n    a+=100\\n    print(a)\\nY()',\n",
       "  'globals()'],\n",
       " '_oh': {11: 2.5},\n",
       " '_dh': ['C:\\\\Users\\\\admina\\\\Desktop\\\\课件'],\n",
       " 'In': ['',\n",
       "  'def count_(*args):\\n    print(args)\\n    for i in args:\\n        a = ord(i)\\n        if a>=48 and a<=57:\\n            n += 1\\n        elif a>=97 and a<=122:\\n            s +=1\\n        else:\\n            m +=1\\n    return n,s,m',\n",
       "  'count_(1,2,3)',\n",
       "  'def count_(*args):\\n    eval(args)\\n    for i in args:\\n        a = ord(i)\\n        if a>=48 and a<=57:\\n            n += 1\\n        elif a>=97 and a<=122:\\n            s +=1\\n        else:\\n            m +=1\\n    return n,s,m',\n",
       "  'count_(1,2,3)',\n",
       "  'def count_(*args):\\n    for i in args:\\n        a = ord(i)\\n        if a>=48 and a<=57:\\n            n += 1\\n        elif a>=97 and a<=122:\\n            s +=1\\n        else:\\n            m +=1\\n    return n,s,m',\n",
       "  'count_(1,2,3)',\n",
       "  'count_(1)',\n",
       "  'def count_(*args):\\n    for i in args:\\n        a = ord(i)\\n        if a>=48 and a<=57:\\n            n += 1\\n        elif a>=97 and a<=122:\\n            s +=1\\n        else:\\n            m +=1\\n    return n,s,m',\n",
       "  'count_(1)',\n",
       "  'def average_(*args):\\n    print(args)\\n    a = 0\\n    b = 0\\n    for i in args:\\n        a = a + i\\n        b+=1\\n        c=a/b\\n    return c',\n",
       "  'average_(1,2,3,4)',\n",
       "  'def count_(*args):\\n    str(args)\\n    for i in args:\\n        a = ord(i)\\n        if a>=48 and a<=57:\\n            n += 1\\n        elif a>=97 and a<=122:\\n            s +=1\\n        else:\\n            m +=1\\n    return n,s,m',\n",
       "  'count_(1)',\n",
       "  '\\ndef printme( str ):\\n   # 打印任何传入的字符串\\n   print (str)\\n    return\\n \\n# 调用函数\\nprintme(\"我要调用用户自定义函数!\")\\nprintme(\"再次调用同一函数\")',\n",
       "  '\\ndef printme( str ):\\n   # 打印任何传入的字符串\\n    print (str)\\n    return\\n \\n# 调用函数\\nprintme(\"我要调用用户自定义函数!\")\\nprintme(\"再次调用同一函数\")',\n",
       "  'def count_(str):\\n    for i in str:\\n        a = ord(i)\\n        if a>=48 and a<=57:\\n            n += 1\\n        elif a>=97 and a<=122:\\n            s +=1\\n        else:\\n            m +=1\\n    return n,s,m',\n",
       "  'count_(1)',\n",
       "  'def yy(**jj):\\n    print(jj)\\nyy(a=100,b=100)',\n",
       "  'def yy(*args,**kwargs):\\n    print(kwargs)\\n    print(args)\\nyy(a=100,b=100)',\n",
       "  'a = 1000',\n",
       "  'a = 1000\\nB = 10\\ndef Y():\\n    global a\\n    a+=100\\n    print(a)\\nY()',\n",
       "  'globals()'],\n",
       " 'Out': {11: 2.5},\n",
       " 'get_ipython': <bound method InteractiveShell.get_ipython of <ipykernel.zmqshell.ZMQInteractiveShell object at 0x000001E019D8F0F0>>,\n",
       " 'exit': <IPython.core.autocall.ZMQExitAutocall at 0x1e01c5fadd8>,\n",
       " 'quit': <IPython.core.autocall.ZMQExitAutocall at 0x1e01c5fadd8>,\n",
       " '_': 2.5,\n",
       " '__': '',\n",
       " '___': '',\n",
       " '_i': 'a = 1000\\nB = 10\\ndef Y():\\n    global a\\n    a+=100\\n    print(a)\\nY()',\n",
       " '_ii': 'a = 1000',\n",
       " '_iii': 'def yy(*args,**kwargs):\\n    print(kwargs)\\n    print(args)\\nyy(a=100,b=100)',\n",
       " '_i1': 'def count_(*args):\\n    print(args)\\n    for i in args:\\n        a = ord(i)\\n        if a>=48 and a<=57:\\n            n += 1\\n        elif a>=97 and a<=122:\\n            s +=1\\n        else:\\n            m +=1\\n    return n,s,m',\n",
       " 'count_': <function __main__.count_(str)>,\n",
       " '_i2': 'count_(1,2,3)',\n",
       " '_i3': 'def count_(*args):\\n    eval(args)\\n    for i in args:\\n        a = ord(i)\\n        if a>=48 and a<=57:\\n            n += 1\\n        elif a>=97 and a<=122:\\n            s +=1\\n        else:\\n            m +=1\\n    return n,s,m',\n",
       " '_i4': 'count_(1,2,3)',\n",
       " '_i5': 'def count_(*args):\\n    for i in args:\\n        a = ord(i)\\n        if a>=48 and a<=57:\\n            n += 1\\n        elif a>=97 and a<=122:\\n            s +=1\\n        else:\\n            m +=1\\n    return n,s,m',\n",
       " '_i6': 'count_(1,2,3)',\n",
       " '_i7': 'count_(1)',\n",
       " '_i8': 'def count_(*args):\\n    for i in args:\\n        a = ord(i)\\n        if a>=48 and a<=57:\\n            n += 1\\n        elif a>=97 and a<=122:\\n            s +=1\\n        else:\\n            m +=1\\n    return n,s,m',\n",
       " '_i9': 'count_(1)',\n",
       " '_i10': 'def average_(*args):\\n    print(args)\\n    a = 0\\n    b = 0\\n    for i in args:\\n        a = a + i\\n        b+=1\\n        c=a/b\\n    return c',\n",
       " 'average_': <function __main__.average_(*args)>,\n",
       " '_i11': 'average_(1,2,3,4)',\n",
       " '_11': 2.5,\n",
       " '_i12': 'def count_(*args):\\n    str(args)\\n    for i in args:\\n        a = ord(i)\\n        if a>=48 and a<=57:\\n            n += 1\\n        elif a>=97 and a<=122:\\n            s +=1\\n        else:\\n            m +=1\\n    return n,s,m',\n",
       " '_i13': 'count_(1)',\n",
       " '_i14': '\\ndef printme( str ):\\n   # 打印任何传入的字符串\\n   print (str)\\n    return\\n \\n# 调用函数\\nprintme(\"我要调用用户自定义函数!\")\\nprintme(\"再次调用同一函数\")',\n",
       " '_i15': '\\ndef printme( str ):\\n   # 打印任何传入的字符串\\n    print (str)\\n    return\\n \\n# 调用函数\\nprintme(\"我要调用用户自定义函数!\")\\nprintme(\"再次调用同一函数\")',\n",
       " 'printme': <function __main__.printme(str)>,\n",
       " '_i16': 'def count_(str):\\n    for i in str:\\n        a = ord(i)\\n        if a>=48 and a<=57:\\n            n += 1\\n        elif a>=97 and a<=122:\\n            s +=1\\n        else:\\n            m +=1\\n    return n,s,m',\n",
       " '_i17': 'count_(1)',\n",
       " '_i18': 'def yy(**jj):\\n    print(jj)\\nyy(a=100,b=100)',\n",
       " 'yy': <function __main__.yy(*args, **kwargs)>,\n",
       " '_i19': 'def yy(*args,**kwargs):\\n    print(kwargs)\\n    print(args)\\nyy(a=100,b=100)',\n",
       " '_i20': 'a = 1000',\n",
       " 'a': 1100,\n",
       " '_i21': 'a = 1000\\nB = 10\\ndef Y():\\n    global a\\n    a+=100\\n    print(a)\\nY()',\n",
       " 'B': 10,\n",
       " 'Y': <function __main__.Y()>,\n",
       " '_i22': 'globals()'}"
      ]
     },
     "execution_count": 22,
     "metadata": {},
     "output_type": "execute_result"
    }
   ],
   "source": [
    "globals()"
   ]
  },
  {
   "cell_type": "code",
   "execution_count": null,
   "metadata": {},
   "outputs": [],
   "source": []
  },
  {
   "cell_type": "code",
   "execution_count": null,
   "metadata": {},
   "outputs": [],
   "source": []
  },
  {
   "cell_type": "markdown",
   "metadata": {},
   "source": [
    "## 注意：\n",
    "- global ：在进行赋值操作的时候需要声明\n",
    "- 官方解释：This is because when you make an assignment to a variable in a scope, that variable becomes local to that scope and shadows any similarly named variable in the outer scope.\n",
    "- ![](../Photo/73.png)"
   ]
  },
  {
   "cell_type": "markdown",
   "metadata": {},
   "source": [
    "## EP：\n",
    "- 定义一个邮箱加密函数，使得输入邮箱后进行ASCII码加密\n",
    "- 定义一个判断其是否为闰年的函数\n",
    "- 函数的嵌套：定义两个函数A，B，B函数接受A函数的数值并判定是否为奇数或者偶数"
   ]
  },
  {
   "cell_type": "markdown",
   "metadata": {},
   "source": [
    "# Homework\n",
    "- 1\n",
    "![](../Photo/74.png)"
   ]
  },
  {
   "cell_type": "code",
   "execution_count": 23,
   "metadata": {},
   "outputs": [],
   "source": [
    "#数学方面：五角数\n",
    "def getPentagonalNumber():\n",
    "    m = 0\n",
    "    for i in range(1,100):\n",
    "        num = ( i * (3 * i - 1))/2\n",
    "        print('%d'%num,end=' ')\n",
    "        m += 1\n",
    "        if m % 10 == 0:\n",
    "            print()\n",
    "    return num"
   ]
  },
  {
   "cell_type": "code",
   "execution_count": 24,
   "metadata": {},
   "outputs": [
    {
     "name": "stdout",
     "output_type": "stream",
     "text": [
      "1 5 12 22 35 51 70 92 117 145 \n",
      "176 210 247 287 330 376 425 477 532 590 \n",
      "651 715 782 852 925 1001 1080 1162 1247 1335 \n",
      "1426 1520 1617 1717 1820 1926 2035 2147 2262 2380 \n",
      "2501 2625 2752 2882 3015 3151 3290 3432 3577 3725 \n",
      "3876 4030 4187 4347 4510 4676 4845 5017 5192 5370 \n",
      "5551 5735 5922 6112 6305 6501 6700 6902 7107 7315 \n",
      "7526 7740 7957 8177 8400 8626 8855 9087 9322 9560 \n",
      "9801 10045 10292 10542 10795 11051 11310 11572 11837 12105 \n",
      "12376 12650 12927 13207 13490 13776 14065 14357 14652 "
     ]
    }
   ],
   "source": [
    "a=getPentagonalNumber()"
   ]
  },
  {
   "cell_type": "markdown",
   "metadata": {},
   "source": [
    "- 2 \n",
    "![](../Photo/75.png)"
   ]
  },
  {
   "cell_type": "code",
   "execution_count": 8,
   "metadata": {},
   "outputs": [
    {
     "name": "stdout",
     "output_type": "stream",
     "text": [
      "请输入一个三位及三位以下数！\n"
     ]
    }
   ],
   "source": [
    "#求一个整数各个数字的和\n",
    "def sumDigits(n):\n",
    "    \n",
    "    a = n % 10\n",
    "    b = (n // 10) % 10\n",
    "    c =  n // 100\n",
    "    d = a + b + c\n",
    "    return d\n",
    "print('请输入一个三位及三位以下数！')\n",
    "    "
   ]
  },
  {
   "cell_type": "code",
   "execution_count": 9,
   "metadata": {},
   "outputs": [
    {
     "data": {
      "text/plain": [
       "32"
      ]
     },
     "execution_count": 9,
     "metadata": {},
     "output_type": "execute_result"
    }
   ],
   "source": [
    "sumDigits(234)"
   ]
  },
  {
   "cell_type": "markdown",
   "metadata": {},
   "source": [
    "- 3\n",
    "![](../Photo/76.png)"
   ]
  },
  {
   "cell_type": "code",
   "execution_count": 11,
   "metadata": {},
   "outputs": [
    {
     "name": "stdout",
     "output_type": "stream",
     "text": [
      "请输入三个整数！\n"
     ]
    }
   ],
   "source": [
    "#对三个数排序\n",
    "def PP(num1,num2,num3):\n",
    "    if num1 > num2 > num3:\n",
    "        print(num3 ,num2 ,num1)\n",
    "    elif num1> num3 > num2 :\n",
    "        print(num2 ,num3 ,num1)\n",
    "    elif num2 > num1 > num3 :\n",
    "        print(num3 ,num1 ,num2)\n",
    "    elif num2 > num3 > num1 :\n",
    "        print(num1 ,num3 ,num2)\n",
    "    elif num3 > num2 > num1 :\n",
    "        print(num1 ,num2 ,num3)\n",
    "    elif num3 > num1 > num2 :\n",
    "        print(num2 ,num1 ,num3)\n",
    "print('请输入三个整数！')"
   ]
  },
  {
   "cell_type": "code",
   "execution_count": 12,
   "metadata": {},
   "outputs": [
    {
     "name": "stdout",
     "output_type": "stream",
     "text": [
      "\n",
      "1 2 3\n"
     ]
    }
   ],
   "source": [
    "PP(3,2,1)"
   ]
  },
  {
   "cell_type": "code",
   "execution_count": 35,
   "metadata": {},
   "outputs": [],
   "source": [
    "a=ww(2,4,3)"
   ]
  },
  {
   "cell_type": "markdown",
   "metadata": {},
   "source": [
    "# - 4\n",
    "![](../Photo/77.png)"
   ]
  },
  {
   "cell_type": "markdown",
   "metadata": {},
   "source": [
    "- 5\n",
    "![](../Photo/78.png)"
   ]
  },
  {
   "cell_type": "code",
   "execution_count": null,
   "metadata": {},
   "outputs": [],
   "source": [
    "#显示字符\n",
    "def M():\n",
    "    "
   ]
  },
  {
   "cell_type": "code",
   "execution_count": null,
   "metadata": {},
   "outputs": [],
   "source": []
  },
  {
   "cell_type": "markdown",
   "metadata": {},
   "source": [
    "- 6\n",
    "![](../Photo/79.png)"
   ]
  },
  {
   "cell_type": "code",
   "execution_count": 13,
   "metadata": {},
   "outputs": [],
   "source": [
    "#一年的天数\n",
    "def numberofdaysinyear(year):\n",
    "    if (year % 4==0 and year %100!=0) or (year % 400==0):\n",
    "        print('366')\n",
    "    else:\n",
    "        print('365')"
   ]
  },
  {
   "cell_type": "code",
   "execution_count": 15,
   "metadata": {},
   "outputs": [
    {
     "name": "stdout",
     "output_type": "stream",
     "text": [
      "366\n"
     ]
    }
   ],
   "source": [
    "numberofdaysinyear(2008)"
   ]
  },
  {
   "cell_type": "code",
   "execution_count": 59,
   "metadata": {},
   "outputs": [],
   "source": [
    "#一年的天数\n",
    "def Q(year1,year2):\n",
    "    n = year2-year1\n",
    "    year1 = year1 - 1\n",
    "    m = 0\n",
    "    for i in range(0,n+1):\n",
    "        year1+=1\n",
    "        print(year1,end = \"  \")\n",
    "        if (year1 % 4==0 and year1 %100!=0) or (year1 % 400==0):\n",
    "            print('366',end = \"  \")\n",
    "        else:\n",
    "            print('365',end = \"  \")\n",
    "        if m % n+1 == 1:      #换行\n",
    "            print()   "
   ]
  },
  {
   "cell_type": "code",
   "execution_count": 60,
   "metadata": {},
   "outputs": [
    {
     "name": "stdout",
     "output_type": "stream",
     "text": [
      "2010  365  \n",
      "2011  365  \n",
      "2012  366  \n",
      "2013  365  \n",
      "2014  365  \n",
      "2015  365  \n",
      "2016  366  \n",
      "2017  365  \n",
      "2018  365  \n",
      "2019  365  \n",
      "2020  366  \n"
     ]
    }
   ],
   "source": [
    "Q(2010,2020)"
   ]
  },
  {
   "cell_type": "markdown",
   "metadata": {},
   "source": [
    "- 7\n",
    "![](../Photo/80.png)"
   ]
  },
  {
   "cell_type": "code",
   "execution_count": null,
   "metadata": {},
   "outputs": [],
   "source": [
    "#几何问题：显示角\n",
    "def "
   ]
  },
  {
   "cell_type": "markdown",
   "metadata": {},
   "source": [
    "- 8\n",
    "![](../Photo/81.png)"
   ]
  },
  {
   "cell_type": "code",
   "execution_count": 62,
   "metadata": {},
   "outputs": [],
   "source": [
    "import math"
   ]
  },
  {
   "cell_type": "code",
   "execution_count": 63,
   "metadata": {},
   "outputs": [
    {
     "data": {
      "text/plain": [
       "9.0"
      ]
     },
     "execution_count": 63,
     "metadata": {},
     "output_type": "execute_result"
    }
   ],
   "source": [
    "math.pow(3,2)"
   ]
  },
  {
   "cell_type": "code",
   "execution_count": 81,
   "metadata": {},
   "outputs": [
    {
     "name": "stdout",
     "output_type": "stream",
     "text": [
      "[2, 3, 5, 7, 11, 13, 17, 19, 23, 29, 31, 37, 41, 43, 47]\n"
     ]
    }
   ],
   "source": [
    "num =[];\n",
    "i = 2\n",
    "for i in range(2,50):\n",
    "    j=2\n",
    "    for j in range(2,i):\n",
    "        if(i%j==0): \n",
    "            break\n",
    "    else:\n",
    "        num.append(i)\n",
    "print(num)"
   ]
  },
  {
   "cell_type": "code",
   "execution_count": 79,
   "metadata": {},
   "outputs": [],
   "source": [
    "def ww(p):\n",
    "    for i in range(2,p+1):\n",
    "        m = math.pow(2,i-1)\n",
    "        if m <= p:\n",
    "            print(i,m)\n",
    "            "
   ]
  },
  {
   "cell_type": "code",
   "execution_count": 80,
   "metadata": {},
   "outputs": [
    {
     "name": "stdout",
     "output_type": "stream",
     "text": [
      "2 2.0\n",
      "3 4.0\n",
      "4 8.0\n",
      "5 16.0\n"
     ]
    }
   ],
   "source": [
    "ww(31)"
   ]
  },
  {
   "cell_type": "code",
   "execution_count": 88,
   "metadata": {},
   "outputs": [
    {
     "name": "stdout",
     "output_type": "stream",
     "text": [
      "2 3\n",
      "3 7\n",
      "5 31\n",
      "7 127\n",
      "11 2047\n",
      "13 8191\n",
      "17 131071\n",
      "19 524287\n",
      "23 8388607\n",
      "29 536870911\n",
      "31 2147483647\n"
     ]
    }
   ],
   "source": [
    "#梅森素数\n",
    "def m():\n",
    "    i =2\n",
    "    for i in range(2,32):\n",
    "        j=2\n",
    "        for j in range(2,i):\n",
    "            if i%j==0:\n",
    "                break\n",
    "        else:\n",
    "            n = 2**i-1\n",
    "            print(i,n)\n",
    "m()"
   ]
  },
  {
   "cell_type": "markdown",
   "metadata": {},
   "source": [
    "- 9\n",
    "![](../Photo/82.png)\n",
    "![](../Photo/83.png)"
   ]
  },
  {
   "cell_type": "code",
   "execution_count": null,
   "metadata": {},
   "outputs": [],
   "source": []
  },
  {
   "cell_type": "markdown",
   "metadata": {},
   "source": [
    "- 10\n",
    "![](../Photo/84.png)"
   ]
  },
  {
   "cell_type": "code",
   "execution_count": 86,
   "metadata": {},
   "outputs": [],
   "source": [
    "import random\n",
    "a = random.randint(1,6)\n",
    "b = random.randint(1,6)"
   ]
  },
  {
   "cell_type": "code",
   "execution_count": 87,
   "metadata": {},
   "outputs": [
    {
     "ename": "SyntaxError",
     "evalue": "invalid syntax (<ipython-input-87-e6eca9a3a25b>, line 3)",
     "output_type": "error",
     "traceback": [
      "\u001b[1;36m  File \u001b[1;32m\"<ipython-input-87-e6eca9a3a25b>\"\u001b[1;36m, line \u001b[1;32m3\u001b[0m\n\u001b[1;33m    if a+b=2 or a+b=3 or a+b=12:\u001b[0m\n\u001b[1;37m          ^\u001b[0m\n\u001b[1;31mSyntaxError\u001b[0m\u001b[1;31m:\u001b[0m invalid syntax\n"
     ]
    }
   ],
   "source": [
    "#掷骰子\n",
    "def pp(a,b):\n",
    "    if a+b=2 or a+b=3 or a+b=12:\n",
    "        print('你输了！')\n",
    "    elif a+b=7 or a+b=11:\n",
    "        print('你赢了！')\n",
    "    else:\n",
    "        print()\n",
    "        "
   ]
  },
  {
   "cell_type": "code",
   "execution_count": null,
   "metadata": {},
   "outputs": [],
   "source": []
  },
  {
   "cell_type": "markdown",
   "metadata": {},
   "source": [
    "- 11 \n",
    "### 去网上寻找如何用Python代码发送邮件 \n",
    "    - time.sleep(3)  3秒发送一次\n",
    "    - 一旦错误后，重新换一个邮箱"
   ]
  }
 ],
 "metadata": {
  "kernelspec": {
   "display_name": "Python 3",
   "language": "python",
   "name": "python3"
  },
  "language_info": {
   "codemirror_mode": {
    "name": "ipython",
    "version": 3
   },
   "file_extension": ".py",
   "mimetype": "text/x-python",
   "name": "python",
   "nbconvert_exporter": "python",
   "pygments_lexer": "ipython3",
   "version": "3.7.3"
  }
 },
 "nbformat": 4,
 "nbformat_minor": 2
}
