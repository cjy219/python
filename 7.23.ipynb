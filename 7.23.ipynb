{
 "cells": [
  {
   "cell_type": "markdown",
   "metadata": {},
   "source": [
    "# 对象和类\n",
    "- 一个学生，一张桌子，一个圆都是对象\n",
    "- 对象是类的一个实例，你可以创建多个对象，创建类的一个实例过程被称为实例化，\n",
    "- 在Python中对象就是实例，而实例就是对象"
   ]
  },
  {
   "cell_type": "code",
   "execution_count": 22,
   "metadata": {},
   "outputs": [],
   "source": [
    "class joker:\n",
    "    pass"
   ]
  },
  {
   "cell_type": "code",
   "execution_count": 23,
   "metadata": {},
   "outputs": [
    {
     "data": {
      "text/plain": [
       "__main__.joker"
      ]
     },
     "execution_count": 23,
     "metadata": {},
     "output_type": "execute_result"
    }
   ],
   "source": [
    "joker"
   ]
  },
  {
   "cell_type": "markdown",
   "metadata": {},
   "source": [
    "## 定义类\n",
    "class ClassName:\n",
    "\n",
    "    do something\n",
    "    \n",
    "- class 类的表示与def 一样\n",
    "- 类名最好使用驼峰式\n",
    "- 在Python2中类是需要继承基类object的，在Python中默认继承，可写可不写\n",
    "- 可以将普通代码理解为皮肤，而函数可以理解为内衣，那么类可以理解为外套"
   ]
  },
  {
   "cell_type": "code",
   "execution_count": 1,
   "metadata": {},
   "outputs": [],
   "source": [
    "class joker:\n",
    "    pass"
   ]
  },
  {
   "cell_type": "code",
   "execution_count": 2,
   "metadata": {},
   "outputs": [
    {
     "data": {
      "text/plain": [
       "__main__.joker"
      ]
     },
     "execution_count": 2,
     "metadata": {},
     "output_type": "execute_result"
    }
   ],
   "source": [
    "joker"
   ]
  },
  {
   "cell_type": "markdown",
   "metadata": {},
   "source": [
    "## 定义一个不含初始化__init__的简单类\n",
    "class ClassName:\n",
    "\n",
    "    joker = “Home”\n",
    "    \n",
    "    def func():\n",
    "        print('Worker')\n",
    "    \n",
    "- 尽量少使用"
   ]
  },
  {
   "cell_type": "markdown",
   "metadata": {},
   "source": [
    "\n",
    "\n",
    "## 定义一个标准类\n",
    "- __init__ 代表初始化，可以初始化任何动作\n",
    "- 此时类调用要使用()，其中（）可以理解为开始初始化\n",
    "- 初始化内的元素，类中其他的函数可以共享\n",
    "![](../Photo/85.png)"
   ]
  },
  {
   "cell_type": "code",
   "execution_count": 4,
   "metadata": {},
   "outputs": [],
   "source": [
    "#一切类必须初始化!!!\n",
    "#在类中，所有函数的第一个参数，都是标识量，不是参数\n",
    "#若某一个参数需要多次使用，那么可以将其统一放在初始化函数中\n",
    "class joker:\n",
    "    def __init__(self):\n",
    "        print('我初始化')#初始化类必须，self是一个标识\n",
    "    def Print_(self,name):#第一个是标识量\n",
    "        print('hello word',name)"
   ]
  },
  {
   "cell_type": "code",
   "execution_count": 1,
   "metadata": {},
   "outputs": [],
   "source": [
    "#一切类必须初始化!!!\n",
    "#在类中，所有函数的第一个参数，都是标识量，不是参数\n",
    "class joker:\n",
    "    def __init__(self,num1,num2):\n",
    "        print('我初始化')#初始化类必须，self是一个标识\n",
    "        self.num1=num1\n",
    "        self.num2=num2\n",
    "    def Print_(self,name):#第一个是标识量\n",
    "        print('hello word',name)\n",
    "    def SUM(self):\n",
    "        return self.num1 + self.num2\n",
    "    def cheng(self):\n",
    "        return self.num1 * self.num2"
   ]
  },
  {
   "cell_type": "code",
   "execution_count": 2,
   "metadata": {},
   "outputs": [
    {
     "name": "stdout",
     "output_type": "stream",
     "text": [
      "我初始化\n"
     ]
    }
   ],
   "source": [
    "xiaoming = joker(num1=1,num2=2)"
   ]
  },
  {
   "cell_type": "code",
   "execution_count": 6,
   "metadata": {},
   "outputs": [
    {
     "name": "stdout",
     "output_type": "stream",
     "text": [
      "hello word name100\n"
     ]
    }
   ],
   "source": [
    "xiaoming.Print_('name100')"
   ]
  },
  {
   "cell_type": "markdown",
   "metadata": {},
   "source": [
    "- Circle 和 className_ 的第一个区别有 __init__ 这个函数\n",
    "- 。。。。   第二个区别，类中的每一个函数都有self的这个“参数”"
   ]
  },
  {
   "cell_type": "markdown",
   "metadata": {},
   "source": [
    "## 何为self？\n",
    "- self 是指向对象本身的参数\n",
    "- self 只是一个命名规则，其实可以改变的，但是我们约定俗成的是self，也便于理解\n",
    "- 使用了self就可以访问类中定义的成员\n",
    "<img src=\"../Photo/86.png\"></img>"
   ]
  },
  {
   "cell_type": "markdown",
   "metadata": {},
   "source": [
    "## 使用类 Cirlcle"
   ]
  },
  {
   "cell_type": "markdown",
   "metadata": {},
   "source": [
    "## 类的传参\n",
    "- class ClassName:\n",
    "    \n",
    "        def __init__(self, para1,para2...)：\n",
    "            \n",
    "            self.para1 = para1\n",
    "            \n",
    "            self.para2 = para2"
   ]
  },
  {
   "cell_type": "markdown",
   "metadata": {},
   "source": [
    "## EP:\n",
    "- A：定义一个类，类中含有两个功能：\n",
    "    - 1、产生3个随机数，计算随机数的最大值\n",
    "    - 2、产生3个随机数，计算随机数的最小值\n",
    "- B：定义一个类，（类中函数的嵌套使用）\n",
    "    - 1、第一个函数的功能为：输入一个数字\n",
    "    - 2、第二个函数的功能为：使用第一个函数中得到的数字进行平方处理\n",
    "    - 3、第三个函数的功能为：得到平方处理后的数字 - 原来输入的数字，并打印结果"
   ]
  },
  {
   "cell_type": "code",
   "execution_count": 24,
   "metadata": {},
   "outputs": [
    {
     "ename": "NameError",
     "evalue": "name 'lei' is not defined",
     "output_type": "error",
     "traceback": [
      "\u001b[1;31m---------------------------------------------------------------------------\u001b[0m",
      "\u001b[1;31mNameError\u001b[0m                                 Traceback (most recent call last)",
      "\u001b[1;32m<ipython-input-24-8cfa94a1f031>\u001b[0m in \u001b[0;36m<module>\u001b[1;34m\u001b[0m\n\u001b[0;32m      3\u001b[0m \u001b[0mb\u001b[0m \u001b[1;33m=\u001b[0m \u001b[0mrandom\u001b[0m\u001b[1;33m.\u001b[0m\u001b[0mrandint\u001b[0m\u001b[1;33m(\u001b[0m\u001b[1;36m0\u001b[0m\u001b[1;33m,\u001b[0m\u001b[1;36m10\u001b[0m\u001b[1;33m)\u001b[0m\u001b[1;33m\u001b[0m\u001b[1;33m\u001b[0m\u001b[0m\n\u001b[0;32m      4\u001b[0m \u001b[0mc\u001b[0m \u001b[1;33m=\u001b[0m \u001b[0mrandom\u001b[0m\u001b[1;33m.\u001b[0m\u001b[0mrandint\u001b[0m\u001b[1;33m(\u001b[0m\u001b[1;36m0\u001b[0m\u001b[1;33m,\u001b[0m\u001b[1;36m10\u001b[0m\u001b[1;33m)\u001b[0m\u001b[1;33m\u001b[0m\u001b[1;33m\u001b[0m\u001b[0m\n\u001b[1;32m----> 5\u001b[1;33m \u001b[0mx\u001b[0m \u001b[1;33m=\u001b[0m \u001b[0mlei\u001b[0m\u001b[1;33m(\u001b[0m\u001b[0ma\u001b[0m\u001b[1;33m,\u001b[0m\u001b[0mb\u001b[0m\u001b[1;33m,\u001b[0m\u001b[0mc\u001b[0m\u001b[1;33m)\u001b[0m\u001b[1;33m\u001b[0m\u001b[1;33m\u001b[0m\u001b[0m\n\u001b[0m",
      "\u001b[1;31mNameError\u001b[0m: name 'lei' is not defined"
     ]
    }
   ],
   "source": [
    "import random\n",
    "a = random.randint(0,10)\n",
    "b = random.randint(0,10)\n",
    "c = random.randint(0,10)\n",
    "x = lei(a,b,c)"
   ]
  },
  {
   "cell_type": "code",
   "execution_count": 25,
   "metadata": {},
   "outputs": [],
   "source": [
    "class lei:\n",
    "\n",
    "    def __init__(self,a,b,c):\n",
    "        print('我开始初始化')\n",
    "        self.a = a\n",
    "        self.b = b\n",
    "        self.c = c\n",
    "    def max_(self):\n",
    "        return max(self.a,self.b,self.c)\n",
    "    def min_(self):\n",
    "        return min(self.a,self.b,self.c)"
   ]
  },
  {
   "cell_type": "code",
   "execution_count": 26,
   "metadata": {},
   "outputs": [
    {
     "ename": "NameError",
     "evalue": "name 'x' is not defined",
     "output_type": "error",
     "traceback": [
      "\u001b[1;31m---------------------------------------------------------------------------\u001b[0m",
      "\u001b[1;31mNameError\u001b[0m                                 Traceback (most recent call last)",
      "\u001b[1;32m<ipython-input-26-47969472edbb>\u001b[0m in \u001b[0;36m<module>\u001b[1;34m\u001b[0m\n\u001b[1;32m----> 1\u001b[1;33m \u001b[0mx\u001b[0m\u001b[1;33m.\u001b[0m\u001b[0mmax_\u001b[0m\u001b[1;33m(\u001b[0m\u001b[1;33m)\u001b[0m\u001b[1;33m\u001b[0m\u001b[1;33m\u001b[0m\u001b[0m\n\u001b[0m",
      "\u001b[1;31mNameError\u001b[0m: name 'x' is not defined"
     ]
    }
   ],
   "source": [
    "x.max_()"
   ]
  },
  {
   "cell_type": "code",
   "execution_count": 27,
   "metadata": {},
   "outputs": [
    {
     "ename": "NameError",
     "evalue": "name 'x' is not defined",
     "output_type": "error",
     "traceback": [
      "\u001b[1;31m---------------------------------------------------------------------------\u001b[0m",
      "\u001b[1;31mNameError\u001b[0m                                 Traceback (most recent call last)",
      "\u001b[1;32m<ipython-input-27-0fe1d447ac1a>\u001b[0m in \u001b[0;36m<module>\u001b[1;34m\u001b[0m\n\u001b[1;32m----> 1\u001b[1;33m \u001b[0mx\u001b[0m\u001b[1;33m.\u001b[0m\u001b[0mmin_\u001b[0m\u001b[1;33m(\u001b[0m\u001b[1;33m)\u001b[0m\u001b[1;33m\u001b[0m\u001b[1;33m\u001b[0m\u001b[0m\n\u001b[0m",
      "\u001b[1;31mNameError\u001b[0m: name 'x' is not defined"
     ]
    }
   ],
   "source": [
    "x.min_()"
   ]
  },
  {
   "cell_type": "code",
   "execution_count": 28,
   "metadata": {},
   "outputs": [],
   "source": [
    "#登录QQ 填入账号和密码 如果输入正确：成功 输入错误：输入验证码\n",
    "import random\n",
    "class qq:\n",
    "    def __init__(self):\n",
    "        print(\"初始化\")\n",
    "        self.zhanghao = \"1234\"\n",
    "        \n",
    "    def input_(self):\n",
    "        self.zhanghao = input(\"输入账号：\")\n",
    "    def mima(self):\n",
    "        n = '1234'\n",
    "        mima = input(\"输入密码：\")\n",
    "        if mima == n:\n",
    "            print (\"输入正确\")\n",
    "        else:\n",
    "            self.yan()\n",
    "    def yan(self):\n",
    "        while True:\n",
    "            choose=random.randint(0,1)\n",
    "            n1=[[65,90],[97,122]]\n",
    "            range_=n1[choose]\n",
    "            N= \"\"\n",
    "            for i in range(4):\n",
    "                N+=chr(random.randint(range_[0],range_[1]))\n",
    "            print(\"验证码为：\",N)   \n",
    "            me=input(\">>:\")\n",
    "            if me.lower()==N.lower():\n",
    "                print('验证码正确')\n",
    "                print(\"账号或密码错误\")\n",
    "                break\n",
    "            else:\n",
    "                print('验证码错误')"
   ]
  },
  {
   "cell_type": "code",
   "execution_count": 29,
   "metadata": {},
   "outputs": [
    {
     "name": "stdout",
     "output_type": "stream",
     "text": [
      "初始化\n"
     ]
    }
   ],
   "source": [
    "q=qq()"
   ]
  },
  {
   "cell_type": "code",
   "execution_count": 31,
   "metadata": {},
   "outputs": [
    {
     "name": "stdout",
     "output_type": "stream",
     "text": [
      "输入账号：4568\n"
     ]
    }
   ],
   "source": [
    "q.input_()"
   ]
  },
  {
   "cell_type": "code",
   "execution_count": 32,
   "metadata": {},
   "outputs": [
    {
     "name": "stdout",
     "output_type": "stream",
     "text": [
      "输入密码：ECOU\n",
      "验证码为： QCWD\n",
      ">>:QCWD\n",
      "验证码正确\n",
      "账号或密码错误\n"
     ]
    }
   ],
   "source": [
    "q.mima()"
   ]
  },
  {
   "cell_type": "code",
   "execution_count": null,
   "metadata": {},
   "outputs": [],
   "source": []
  },
  {
   "cell_type": "code",
   "execution_count": null,
   "metadata": {},
   "outputs": [],
   "source": [
    "class count_:\n",
    "    def __init__(self,num1,num2,num3):\n",
    "        print('我初始化')\n",
    "    def max_(self)\n",
    "        "
   ]
  },
  {
   "cell_type": "markdown",
   "metadata": {},
   "source": [
    "## 类的继承\n",
    "- 类的单继承\n",
    "- 类的多继承\n",
    "- 继承标识\n",
    ">  class SonClass(FatherClass):\n",
    "            \n",
    "            def __init__(self):\n",
    "            \n",
    "                FatherClass.__init__(self)"
   ]
  },
  {
   "cell_type": "code",
   "execution_count": 33,
   "metadata": {},
   "outputs": [],
   "source": [
    "class fu():\n",
    "    def __init__(self):\n",
    "        self.a = 'a'\n",
    "        self.b = 'b'\n",
    "    def print_(self):\n",
    "        print('fu')"
   ]
  },
  {
   "cell_type": "code",
   "execution_count": 34,
   "metadata": {},
   "outputs": [],
   "source": [
    "class zi(fu):\n",
    "    def __init__(self):\n",
    "        #告诉父类，子类即将继承父类、\n",
    "        fu.__init__(self)\n",
    "        \n",
    "    def hhsh(self):\n",
    "        print(self.a)\n",
    "        self.print_()\n",
    "            #\n",
    "    #super(zi)"
   ]
  },
  {
   "cell_type": "code",
   "execution_count": 35,
   "metadata": {},
   "outputs": [],
   "source": [
    "joker4 = zi()"
   ]
  },
  {
   "cell_type": "code",
   "execution_count": 36,
   "metadata": {},
   "outputs": [
    {
     "name": "stdout",
     "output_type": "stream",
     "text": [
      "a\n",
      "fu\n"
     ]
    }
   ],
   "source": [
    "joker4.hhsh()"
   ]
  },
  {
   "cell_type": "code",
   "execution_count": null,
   "metadata": {},
   "outputs": [],
   "source": []
  },
  {
   "cell_type": "code",
   "execution_count": 391,
   "metadata": {},
   "outputs": [],
   "source": [
    "class QQ:\n",
    "    def __init__(self):\n",
    "        self.account = '123'\n",
    "        self.password = '123'\n",
    "    def account_(self):\n",
    "        acc = input('account:>>')\n",
    "        password = input('password:>>')\n",
    "        if acc == self.account and self.password==password:\n",
    "            print('success')\n",
    "        else:\n",
    "            print('failed')\n",
    "            print(self.yanzhengma())\n",
    "    def yanzhengma(self):\n",
    "        yanzhengma ='ppp'\n",
    "        print('验证码：',yanzhengma)\n",
    "        while 1:\n",
    "            N=input('请输入验证码:')\n",
    "            if N==yanzhengma:\n",
    "                print('验证码正确')\n",
    "                print('帐号或者密码错误')\n",
    "                break"
   ]
  },
  {
   "cell_type": "code",
   "execution_count": 392,
   "metadata": {},
   "outputs": [],
   "source": [
    "a = QQ()"
   ]
  },
  {
   "cell_type": "code",
   "execution_count": 393,
   "metadata": {},
   "outputs": [
    {
     "name": "stdout",
     "output_type": "stream",
     "text": [
      "account:>>123\n",
      "password:>>12\n",
      "failed\n",
      "验证码： ppp\n",
      "请输入验证码:ppp\n",
      "验证码正确\n",
      "帐号或者密码错误\n",
      "None\n"
     ]
    }
   ],
   "source": [
    "a.account_()"
   ]
  },
  {
   "cell_type": "code",
   "execution_count": 12,
   "metadata": {},
   "outputs": [],
   "source": [
    "class fu(object):\n",
    "    def __init__(self):\n",
    "        self.a='a'\n",
    "        self.b='b'\n",
    "    def print_(self):\n",
    "        print(fu)"
   ]
  },
  {
   "cell_type": "code",
   "execution_count": 13,
   "metadata": {},
   "outputs": [],
   "source": [
    "class zi(fu):\n",
    "    def __init__(self):\n",
    "        ##告诉父类，子类即将继承父类\n",
    "        fu.__init__(self)\n",
    "        print(self.a)"
   ]
  },
  {
   "cell_type": "code",
   "execution_count": 14,
   "metadata": {},
   "outputs": [
    {
     "name": "stdout",
     "output_type": "stream",
     "text": [
      "a\n"
     ]
    }
   ],
   "source": [
    "A=zi()"
   ]
  },
  {
   "cell_type": "code",
   "execution_count": 15,
   "metadata": {},
   "outputs": [
    {
     "name": "stdout",
     "output_type": "stream",
     "text": [
      "1  5  12  22  35  51  70  92  117  145  \n",
      "176  210  247  287  330  376  425  477  532  590  \n",
      "651  715  782  852  925  1001  1080  1162  1247  1335  \n",
      "1426  1520  1617  1717  1820  1926  2035  2147  2262  2380  \n",
      "2501  2625  2752  2882  3015  3151  3290  3432  3577  3725  \n",
      "3876  4030  4187  4347  4510  4676  4845  5017  5192  5370  \n",
      "5551  5735  5922  6112  6305  6501  6700  6902  7107  7315  \n",
      "7526  7740  7957  8177  8400  8626  8855  9087  9322  9560  \n",
      "9801  10045  10292  10542  10795  11051  11310  11572  11837  12105  \n",
      "12376  12650  12927  13207  13490  13776  14065  14357  14652  "
     ]
    }
   ],
   "source": [
    "def YD():\n",
    "    num = 0    \n",
    "    for i in range(1,100):\n",
    "        wu_=(i*(3*i-1))/2\n",
    "        print('%d'%wu_,end = '  ')\n",
    "        num+=1\n",
    "        if num % 10==0:\n",
    "            print()\n",
    "YD()"
   ]
  },
  {
   "cell_type": "markdown",
   "metadata": {},
   "source": [
    "## 私有数据域(私有变量，或者私有函数)\n",
    "- 在Python中 变量名或者函数名使用双下划线代表私有  \\__Joker,   def \\__Joker():\n",
    "- 私有数据域不可继承\n",
    "- 私有数据域强制继承   \\__dir__()"
   ]
  },
  {
   "cell_type": "code",
   "execution_count": null,
   "metadata": {},
   "outputs": [],
   "source": []
  },
  {
   "cell_type": "markdown",
   "metadata": {},
   "source": [
    "![](../Photo/87.png)"
   ]
  },
  {
   "cell_type": "markdown",
   "metadata": {},
   "source": [
    "## EP:\n",
    "![](../Photo/88.png)\n",
    "![](../Photo/89.png)\n",
    "![](../Photo/90.png)\n"
   ]
  },
  {
   "cell_type": "markdown",
   "metadata": {},
   "source": [
    "第二个对"
   ]
  },
  {
   "cell_type": "markdown",
   "metadata": {},
   "source": [
    "## 类的其他\n",
    "- 类的封装\n",
    "    - 实际上就是将一类功能放在一起，方便未来进行管理\n",
    "- 类的继承（上面已经讲过）\n",
    "- 类的多态\n",
    "    - 包括装饰器：将放在以后处理高级类中教\n",
    "    - 装饰器的好处：当许多类中的函数需要使用同一个功能的时候，那么使用装饰器就会方便许多\n",
    "    - 装饰器是有固定的写法\n",
    "        - 其包括普通装饰器与带参装饰器"
   ]
  },
  {
   "cell_type": "code",
   "execution_count": 91,
   "metadata": {},
   "outputs": [],
   "source": [
    "#继承\n",
    "class A:\n",
    "    def __init__ (self):\n",
    "        self.a = 'a'\n",
    "    \n",
    "    def c_(self):\n",
    "        print('aa')\n",
    "class C:\n",
    "    def __init__(self):\n",
    "        self.c = 'c'\n",
    "        \n",
    "    def a_(self):\n",
    "        print('cc')\n",
    "class B(C,A):\n",
    "    def __init__(self):\n",
    "        A.__init__(self)\n",
    "        C.__init__(self)\n",
    "    def b_(self):\n",
    "        print(self.a_())\n",
    "    \n",
    "    \n",
    "    "
   ]
  },
  {
   "cell_type": "code",
   "execution_count": 92,
   "metadata": {},
   "outputs": [
    {
     "name": "stdout",
     "output_type": "stream",
     "text": [
      "cc\n",
      "None\n"
     ]
    }
   ],
   "source": [
    "bb=B()\n",
    "bb.b_()"
   ]
  },
  {
   "cell_type": "code",
   "execution_count": null,
   "metadata": {},
   "outputs": [],
   "source": []
  },
  {
   "cell_type": "markdown",
   "metadata": {},
   "source": [
    "# Homewor\n",
    "## UML类图可以不用画\n",
    "## UML 实际上就是一个思维图\n",
    "- 1\n",
    "![](../Photo/91.png)"
   ]
  },
  {
   "cell_type": "code",
   "execution_count": 88,
   "metadata": {},
   "outputs": [],
   "source": [
    "class Rectangle:\n",
    "    def __init__ (self,width = 1,height = 2):\n",
    "        self.width = width\n",
    "        self.height = height\n",
    "        print(self.width,self.height)\n",
    "    def getArea(self):\n",
    "        res1 = self.width * self.height\n",
    "        return res1\n",
    "    def getPerimeter(self):\n",
    "        res2 = 2 * self.width * self.height \n",
    "        return res2"
   ]
  },
  {
   "cell_type": "code",
   "execution_count": 83,
   "metadata": {},
   "outputs": [
    {
     "name": "stdout",
     "output_type": "stream",
     "text": [
      "4 40\n"
     ]
    }
   ],
   "source": [
    "a=Rectangle(4,40)"
   ]
  },
  {
   "cell_type": "code",
   "execution_count": 84,
   "metadata": {
    "scrolled": true
   },
   "outputs": [
    {
     "data": {
      "text/plain": [
       "160"
      ]
     },
     "execution_count": 84,
     "metadata": {},
     "output_type": "execute_result"
    }
   ],
   "source": [
    "a.getArea()"
   ]
  },
  {
   "cell_type": "code",
   "execution_count": 85,
   "metadata": {},
   "outputs": [
    {
     "data": {
      "text/plain": [
       "320"
      ]
     },
     "execution_count": 85,
     "metadata": {},
     "output_type": "execute_result"
    }
   ],
   "source": [
    "a.getPerimeter()"
   ]
  },
  {
   "cell_type": "markdown",
   "metadata": {},
   "source": [
    "- 2\n",
    "![](../Photo/92.png)"
   ]
  },
  {
   "cell_type": "code",
   "execution_count": 94,
   "metadata": {},
   "outputs": [
    {
     "data": {
      "text/plain": [
       "1.0"
      ]
     },
     "execution_count": 94,
     "metadata": {},
     "output_type": "execute_result"
    }
   ],
   "source": [
    "float(1)"
   ]
  },
  {
   "cell_type": "code",
   "execution_count": 15,
   "metadata": {},
   "outputs": [
    {
     "name": "stdout",
     "output_type": "stream",
     "text": [
      "请输入id，存钱数，储存利率\n"
     ]
    }
   ],
   "source": [
    "class Account():\n",
    "    print('请输入id，存钱数，储存利率')\n",
    "    def __init__ (self):\n",
    "        self.__id_ = input('请输入id')\n",
    "        self.__balance = float(eval(input('存钱数')))\n",
    "        self.__rate= float(eval(input('储存利率')))#是一个百分数\n",
    "        print('账户ID',self.__id_)\n",
    "        print('余额',self.__balance)\n",
    "        print('当前利率',self.__rate)\n",
    "        print(self.yuelilv())\n",
    "        print(self.yuelixi())\n",
    "        s = input('请选择存钱或取钱，退出（a取钱，b存钱）：')\n",
    "        if s == 'a':\n",
    "            print(self.withdraw())\n",
    "        elif s == 'b':\n",
    "            print(self.deposit())\n",
    "        else:\n",
    "            print('输入错误！')\n",
    "    def yuelilv(self):\n",
    "        self.res1 = (self.__rate/100)/12\n",
    "        print('月利率',self.res1)\n",
    "    def yuelixi(self):\n",
    "        res2 = self.__balance * self.res1\n",
    "        print('月利息',res2)\n",
    "    def withdraw(self):\n",
    "        self.a = eval(input('请输入取钱金额：'))\n",
    "        self.__balance = self.__balance - self.a      \n",
    "        print('取钱',self.a,'余额',self.__balance)\n",
    "    def deposit(self):\n",
    "        self.b = eval(input('请输入存钱金额：'))\n",
    "        res4 = self.__balance + self.b\n",
    "        print('存钱',self.b,'余额',res4)"
   ]
  },
  {
   "cell_type": "code",
   "execution_count": 16,
   "metadata": {},
   "outputs": [
    {
     "name": "stdout",
     "output_type": "stream",
     "text": [
      "请输入idaa\n",
      "存钱数1000\n",
      "储存利率4.5\n",
      "账户ID aa\n",
      "余额 1000.0\n",
      "当前利率 4.5\n",
      "月利率 0.00375\n",
      "None\n",
      "月利息 3.75\n",
      "None\n",
      "请选择存钱或取钱，退出（a取钱，b存钱）：a\n",
      "请输入取钱金额：1000\n",
      "取钱 1000 余额 0.0\n",
      "None\n"
     ]
    }
   ],
   "source": [
    "b = Account()"
   ]
  },
  {
   "cell_type": "code",
   "execution_count": 366,
   "metadata": {},
   "outputs": [
    {
     "name": "stdout",
     "output_type": "stream",
     "text": [
      "请输入id，存钱数，储存利率\n"
     ]
    }
   ],
   "source": [
    "class Account():\n",
    "    print('请输入id，存钱数，储存利率')\n",
    "    def __init__ (self,id_ ,balance = 100,rate = 0):\n",
    "        self.__id_ = id_\n",
    "        self.balance = balance\n",
    "        self.rate= float(rate)#是一个百分数\n",
    "        print('账户ID',self.__id_)\n",
    "        print('余额',self.balance)\n",
    "        print('当前利率',self.rate)\n",
    "        print(self.yuelilv())\n",
    "        print(self.yuelixi())\n",
    "        print(self.withdraw())\n",
    "        print(self.deposit())\n",
    "    def yuelilv(self):\n",
    "        self.res1 = (self.rate/100)/12\n",
    "        print('月利率',self.res1)\n",
    "    def yuelixi(self):\n",
    "        res2 = self.balance * self.res1\n",
    "        print('月利息',res2)\n",
    "    def withdraw(self):\n",
    "        self.a = eval(input('请输入取钱金额：'))\n",
    "        self.res3 = self.balance - self.a      \n",
    "        print('取钱',self.a,'余额',self.res3)\n",
    "    def deposit(self):\n",
    "        self.b = eval(input('请输入存钱金额：'))\n",
    "        res4 = self.balance + self.b\n",
    "        print('存钱',self.b,'余额',res4)"
   ]
  },
  {
   "cell_type": "code",
   "execution_count": 367,
   "metadata": {},
   "outputs": [
    {
     "name": "stdout",
     "output_type": "stream",
     "text": [
      "账户ID xiaoming\n",
      "余额 2000\n",
      "当前利率 4.5\n",
      "月利率 0.00375\n",
      "None\n",
      "月利息 7.5\n",
      "None\n",
      "请输入取钱金额：1000\n",
      "取钱 1000 余额 1000\n",
      "None\n",
      "请输入存钱金额：1000\n",
      "存钱 1000 余额 3000\n",
      "None\n"
     ]
    }
   ],
   "source": [
    "a = Account('xiaoming',2000,4.5)"
   ]
  },
  {
   "cell_type": "markdown",
   "metadata": {},
   "source": [
    "- 3\n",
    "![](../Photo/93.png)"
   ]
  },
  {
   "cell_type": "code",
   "execution_count": 230,
   "metadata": {},
   "outputs": [],
   "source": [
    "class Fan:\n",
    "    def __init__(self,slow = 1,medium = 2,fast =3):\n",
    "        self.slow  =slow \n",
    "        self.medium  = medium\n",
    "        self.fast  = fast\n",
    "        print(self.speed)\n",
    "    def speed(self):\n",
    "        pass\n",
    "    def on(self):\n",
    "        pass\n",
    "    def radius(self):\n",
    "        pass\n",
    "    def color(self):\n",
    "        pass\n",
    "    "
   ]
  },
  {
   "cell_type": "code",
   "execution_count": null,
   "metadata": {},
   "outputs": [],
   "source": []
  },
  {
   "cell_type": "markdown",
   "metadata": {},
   "source": [
    "- 4\n",
    "![](../Photo/94.png)\n",
    "![](../Photo/95.png)"
   ]
  },
  {
   "cell_type": "code",
   "execution_count": 224,
   "metadata": {},
   "outputs": [],
   "source": [
    "import math"
   ]
  },
  {
   "cell_type": "code",
   "execution_count": 237,
   "metadata": {},
   "outputs": [],
   "source": [
    "class RP:\n",
    "    def __init__(self,n = 1,side = 1,x = 0,y = 0):\n",
    "        self.n = n\n",
    "        self.side = side\n",
    "        self.x = x\n",
    "        self.y = y        \n",
    "    def zhouchang(self):\n",
    "        a = self.side * self.n\n",
    "        return a\n",
    "    def area(self):\n",
    "        b = self.n * self.side * self.side\n",
    "        c = 4 * math.tan(math.pi/self.n)\n",
    "        d = b / c\n",
    "        return d\n"
   ]
  },
  {
   "cell_type": "code",
   "execution_count": 247,
   "metadata": {},
   "outputs": [],
   "source": [
    "aa = RP(1,5)"
   ]
  },
  {
   "cell_type": "code",
   "execution_count": 248,
   "metadata": {},
   "outputs": [
    {
     "data": {
      "text/plain": [
       "5"
      ]
     },
     "execution_count": 248,
     "metadata": {},
     "output_type": "execute_result"
    }
   ],
   "source": [
    "aa.zhouchang()"
   ]
  },
  {
   "cell_type": "code",
   "execution_count": 249,
   "metadata": {},
   "outputs": [
    {
     "data": {
      "text/plain": [
       "-5.103512297873553e+16"
      ]
     },
     "execution_count": 249,
     "metadata": {},
     "output_type": "execute_result"
    }
   ],
   "source": [
    "aa.area()"
   ]
  },
  {
   "cell_type": "markdown",
   "metadata": {},
   "source": [
    "- 5\n",
    "![](../Photo/96.png)"
   ]
  },
  {
   "cell_type": "markdown",
   "metadata": {},
   "source": [
    "- 6\n",
    "![](../Photo/97.png)"
   ]
  },
  {
   "cell_type": "markdown",
   "metadata": {},
   "source": [
    "- 7\n",
    "![](../Photo/98.png)"
   ]
  },
  {
   "cell_type": "code",
   "execution_count": null,
   "metadata": {},
   "outputs": [],
   "source": []
  },
  {
   "cell_type": "code",
   "execution_count": null,
   "metadata": {},
   "outputs": [],
   "source": []
  }
 ],
 "metadata": {
  "kernelspec": {
   "display_name": "Python 3",
   "language": "python",
   "name": "python3"
  }
 },
 "nbformat": 4,
 "nbformat_minor": 2
}
