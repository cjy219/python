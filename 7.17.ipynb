{
 "cells": [
  {
   "cell_type": "markdown",
   "metadata": {},
   "source": [
    "# 数学函数、字符串和对象\n",
    "## 本章介绍Python函数来执行常见的数学运算\n",
    "- 函数是完成一个特殊任务的一组语句，可以理解为一个函数相当于一个小功能，但是在开发中，需要注意一个函数的长度最好不要超过一屏\n",
    "- Python中的内置函数是不需要Import导入的\n",
    "<img src=\"../Photo/15.png\"></img>"
   ]
  },
  {
   "cell_type": "code",
   "execution_count": 1,
   "metadata": {},
   "outputs": [
    {
     "data": {
      "text/plain": [
       "0"
      ]
     },
     "execution_count": 1,
     "metadata": {},
     "output_type": "execute_result"
    }
   ],
   "source": [
    "abs(-0)"
   ]
  },
  {
   "cell_type": "code",
   "execution_count": 2,
   "metadata": {},
   "outputs": [
    {
     "data": {
      "text/plain": [
       "16777216"
      ]
     },
     "execution_count": 2,
     "metadata": {},
     "output_type": "execute_result"
    }
   ],
   "source": [
    "8**8"
   ]
  },
  {
   "cell_type": "code",
   "execution_count": 3,
   "metadata": {},
   "outputs": [
    {
     "data": {
      "text/plain": [
       "16777216"
      ]
     },
     "execution_count": 3,
     "metadata": {},
     "output_type": "execute_result"
    }
   ],
   "source": [
    "pow(8,8)"
   ]
  },
  {
   "cell_type": "code",
   "execution_count": 4,
   "metadata": {},
   "outputs": [],
   "source": [
    "import math"
   ]
  },
  {
   "cell_type": "code",
   "execution_count": 5,
   "metadata": {},
   "outputs": [
    {
     "data": {
      "text/plain": [
       "2.718281828459045"
      ]
     },
     "execution_count": 5,
     "metadata": {},
     "output_type": "execute_result"
    }
   ],
   "source": [
    "math.exp(1)"
   ]
  },
  {
   "cell_type": "markdown",
   "metadata": {},
   "source": [
    "## 尝试练习Python内置函数"
   ]
  },
  {
   "cell_type": "markdown",
   "metadata": {},
   "source": [
    "## Python中的math模块提供了许多数学函数\n",
    "<img src=\"../Photo/16.png\"></img>\n",
    "<img src=\"../Photo/17.png\"></img>\n"
   ]
  },
  {
   "cell_type": "code",
   "execution_count": 6,
   "metadata": {},
   "outputs": [
    {
     "data": {
      "text/plain": [
       "100.0"
      ]
     },
     "execution_count": 6,
     "metadata": {},
     "output_type": "execute_result"
    }
   ],
   "source": [
    "math.fabs(100)"
   ]
  },
  {
   "cell_type": "code",
   "execution_count": 7,
   "metadata": {},
   "outputs": [
    {
     "data": {
      "text/plain": [
       "-6"
      ]
     },
     "execution_count": 7,
     "metadata": {},
     "output_type": "execute_result"
    }
   ],
   "source": [
    "math.ceil(-6.7)"
   ]
  },
  {
   "cell_type": "code",
   "execution_count": 8,
   "metadata": {},
   "outputs": [
    {
     "data": {
      "text/plain": [
       "2.718281828459045"
      ]
     },
     "execution_count": 8,
     "metadata": {},
     "output_type": "execute_result"
    }
   ],
   "source": [
    "math.exp(1)"
   ]
  },
  {
   "cell_type": "code",
   "execution_count": 10,
   "metadata": {},
   "outputs": [
    {
     "data": {
      "text/plain": [
       "1.0"
      ]
     },
     "execution_count": 10,
     "metadata": {},
     "output_type": "execute_result"
    }
   ],
   "source": [
    "math.log(math.exp(1))"
   ]
  },
  {
   "cell_type": "code",
   "execution_count": 11,
   "metadata": {},
   "outputs": [
    {
     "data": {
      "text/plain": [
       "3.1622776601683795"
      ]
     },
     "execution_count": 11,
     "metadata": {},
     "output_type": "execute_result"
    }
   ],
   "source": [
    "math.sqrt(10)"
   ]
  },
  {
   "cell_type": "code",
   "execution_count": 12,
   "metadata": {},
   "outputs": [
    {
     "data": {
      "text/plain": [
       "1.0"
      ]
     },
     "execution_count": 12,
     "metadata": {},
     "output_type": "execute_result"
    }
   ],
   "source": [
    "math.sin(math.pi/2)"
   ]
  },
  {
   "cell_type": "code",
   "execution_count": 13,
   "metadata": {},
   "outputs": [
    {
     "data": {
      "text/plain": [
       "1.0"
      ]
     },
     "execution_count": 13,
     "metadata": {},
     "output_type": "execute_result"
    }
   ],
   "source": [
    "hudu=math.radians(90)\n",
    "math.sin(hudu)"
   ]
  },
  {
   "cell_type": "markdown",
   "metadata": {},
   "source": [
    "## 两个数学常量PI和e，可以通过使用math.pi 和math.e调用"
   ]
  },
  {
   "cell_type": "markdown",
   "metadata": {},
   "source": [
    "## EP:\n",
    "- 通过math库，写一个程序，使得用户输入三个顶点(x,y)返回三个角度\n",
    "- 注意：Python计算角度为弧度制，需要将其转换为角度\n",
    "<img src=\"../Photo/18.png\">"
   ]
  },
  {
   "cell_type": "code",
   "execution_count": null,
   "metadata": {},
   "outputs": [],
   "source": [
    "import math\n",
    "a = 2\n",
    "b = 2\n",
    "c = 3\n",
    "part_1 = -2 * b * c\n",
    "part_2 = -2 * a * c\n",
    "part_3 = -2 * a * b\n",
    "A = math.acos((math.pow(a,2)- math.pow(b,2)-math.pow(c,2))/part_1)\n",
    "B = math.acos((math.pow(b,2)- math.pow(a,2)-math.pow(c,2))/part_2)\n",
    "C = math.acos((math.pow(c,2)- math.pow(b,2)-math.pow(a,2))/part_3)\n",
    "print(math.degrees(A))\n",
    "print(math.degrees(B))\n",
    "print(math.degrees(C))"
   ]
  },
  {
   "cell_type": "code",
   "execution_count": 4,
   "metadata": {},
   "outputs": [
    {
     "name": "stdout",
     "output_type": "stream",
     "text": [
      "x1,y10,0\n",
      "x2,y22,0\n",
      "x3,y31,2\n",
      "63.43494882292201\n",
      "63.43494882292201\n",
      "53.13010235415597\n"
     ]
    }
   ],
   "source": [
    "import math\n",
    "x1,y1=eval(input('x1,y1'))\n",
    "x2,y2=eval(input('x2,y2'))\n",
    "x3,y3=eval(input('x3,y3'))\n",
    "a = math.sqrt(math.pow(x2-x3,2)+math.pow(y2-y3,2))\n",
    "b = math.sqrt(math.pow(x1-x3,2)+math.pow(y1-y3,2))\n",
    "c = math.sqrt(math.pow(x2-x1,2)+math.pow(y2-y1,2))\n",
    "part_1=-2 * b * c\n",
    "part_2=-2 * a * c\n",
    "part_3=-2 * a * b\n",
    "A = math.acos((math.pow(a,2)-math.pow(b,2)-math.pow(c,2)) / part_1)\n",
    "B = math.acos((math.pow(b,2)-math.pow(a,2)-math.pow(c,2)) / part_2)\n",
    "C = math.acos((math.pow(c,2)-math.pow(b,2)-math.pow(a,2))/ part_3)\n",
    "print(math.degrees(A))\n",
    "print(math.degrees(B))\n",
    "print(math.degrees(C))"
   ]
  },
  {
   "cell_type": "code",
   "execution_count": 41,
   "metadata": {},
   "outputs": [
    {
     "name": "stdout",
     "output_type": "stream",
     "text": [
      "未中奖哦，要加油哦！\n"
     ]
    }
   ],
   "source": [
    "#抽奖\n",
    "import random\n",
    "a = random.randint(1,10)\n",
    "b = random.randint(10,20)\n",
    "c = random.randint(20,30)\n",
    "if a+b>c and a+c>b and b+c>a:\n",
    "    print('你中奖了!')\n",
    "else:\n",
    "    print('未中奖哦，要加油哦！')"
   ]
  },
  {
   "cell_type": "markdown",
   "metadata": {},
   "source": [
    "## 字符串和字符\n",
    "- 在Python中，字符串必须是在单引号或者双引号内，在多段换行的字符串中可以使用“”“\n",
    "- 在使用”“”时，给予其变量则变为字符串，否则当多行注释使用"
   ]
  },
  {
   "cell_type": "markdown",
   "metadata": {},
   "source": [
    "## ASCII码与Unicode码\n",
    "- <img src=\"../Photo/19.png\"></img>\n",
    "- <img src=\"../Photo/20.png\"></img>\n",
    "- <img src=\"../Photo/21.png\"></img>"
   ]
  },
  {
   "cell_type": "markdown",
   "metadata": {},
   "source": [
    "## 函数ord、chr\n",
    "- ord 返回ASCII码值\n",
    "- chr 返回字符"
   ]
  },
  {
   "cell_type": "code",
   "execution_count": 10,
   "metadata": {},
   "outputs": [
    {
     "data": {
      "text/plain": [
       "97"
      ]
     },
     "execution_count": 10,
     "metadata": {},
     "output_type": "execute_result"
    }
   ],
   "source": [
    "ord('a')"
   ]
  },
  {
   "cell_type": "code",
   "execution_count": 13,
   "metadata": {},
   "outputs": [
    {
     "data": {
      "text/plain": [
       "'a'"
      ]
     },
     "execution_count": 13,
     "metadata": {},
     "output_type": "execute_result"
    }
   ],
   "source": [
    "chr(97)"
   ]
  },
  {
   "cell_type": "markdown",
   "metadata": {},
   "source": [
    "## EP:\n",
    "- 利用ord与chr进行简单邮箱加密,一次只接受一个单词"
   ]
  },
  {
   "cell_type": "code",
   "execution_count": null,
   "metadata": {},
   "outputs": [],
   "source": [
    "4458@SB.com\n",
    "ord('')"
   ]
  },
  {
   "cell_type": "code",
   "execution_count": 16,
   "metadata": {},
   "outputs": [
    {
     "data": {
      "text/plain": [
       "'**+.6I8'"
      ]
     },
     "execution_count": 16,
     "metadata": {},
     "output_type": "execute_result"
    }
   ],
   "source": [
    "chr(ord('4') - 10)+chr(ord('4') - 10)+chr(ord('5') - 10)+chr(ord('8') - 10)+chr(ord('@') - 10)+chr(ord('S') - 10)+chr(ord('B') - 10)"
   ]
  },
  {
   "cell_type": "code",
   "execution_count": 20,
   "metadata": {},
   "outputs": [
    {
     "name": "stdout",
     "output_type": "stream",
     "text": [
      "**+.6I8$Yec\n"
     ]
    }
   ],
   "source": [
    "#加密\n",
    "a = '4458@SB.com'\n",
    "c=\"\"\n",
    "for i in a:\n",
    "    b = chr(ord(i)-10)\n",
    "    c += b\n",
    "print(c)"
   ]
  },
  {
   "cell_type": "code",
   "execution_count": 21,
   "metadata": {},
   "outputs": [
    {
     "name": "stdout",
     "output_type": "stream",
     "text": [
      "4458@SB.com2\n",
      "+\n"
     ]
    }
   ],
   "source": [
    "a = input('请输入加密文本')\n",
    "c=\"\"\n",
    "d=random.randint(0,10)\n",
    "for i in a:\n",
    "    b = chr(ord(i)-d+1)\n",
    "    c += b\n",
    "print(c)"
   ]
  },
  {
   "cell_type": "markdown",
   "metadata": {},
   "source": [
    "## 转义序列 \\\n",
    "- a = \"He said,\"Johon's program is easy to read\"\n",
    "- 转掉它原来的意思\n",
    "- 一般情况下只有当语句与默认方法相撞的时候，就需要转义"
   ]
  },
  {
   "cell_type": "code",
   "execution_count": null,
   "metadata": {},
   "outputs": [],
   "source": [
    "b = \"joke\\\"s\""
   ]
  },
  {
   "cell_type": "markdown",
   "metadata": {},
   "source": [
    "1.三引号和单/双引号的区别是:\n",
    "- 三引号内可以使用换行,单/双引号\n",
    "- 三引号如果不加变量的话,代表是注释(可以换行注释)\n",
    "\n",
    "2.单/双引号内是不是可以加入单/双引号的,但是可以加入双/单.\n",
    "\n",
    "3.如果非要头铁,可以使用\"\\\\\"(转义字符),表示转掉它原来的意思."
   ]
  },
  {
   "cell_type": "markdown",
   "metadata": {},
   "source": [
    "## 高级print\n",
    "- 参数 end： 以什么方式结束打印\n",
    "- 默认换行打印"
   ]
  },
  {
   "cell_type": "code",
   "execution_count": 23,
   "metadata": {},
   "outputs": [
    {
     "name": "stdout",
     "output_type": "stream",
     "text": [
      "joker**********ok\n"
     ]
    }
   ],
   "source": [
    "print('joker',end='**********')#链接结尾\n",
    "print('ok')"
   ]
  },
  {
   "cell_type": "code",
   "execution_count": 24,
   "metadata": {},
   "outputs": [
    {
     "name": "stdout",
     "output_type": "stream",
     "text": [
      "a!!!!b\n"
     ]
    }
   ],
   "source": [
    "print('a','b',sep='!!!!')#换中间的空格"
   ]
  },
  {
   "cell_type": "code",
   "execution_count": null,
   "metadata": {},
   "outputs": [],
   "source": [
    "print()#flush刷新"
   ]
  },
  {
   "cell_type": "code",
   "execution_count": 28,
   "metadata": {},
   "outputs": [
    {
     "name": "stdout",
     "output_type": "stream",
     "text": [
      "joker"
     ]
    }
   ],
   "source": [
    "import sys\n",
    "sys.stdout.write('joker')"
   ]
  },
  {
   "cell_type": "code",
   "execution_count": 30,
   "metadata": {},
   "outputs": [
    {
     "name": "stdout",
     "output_type": "stream",
     "text": [
      "0 / 101 / 102 / 103 / 104 / 105 / 106 / 107 / 108 / 109 / 10"
     ]
    }
   ],
   "source": [
    "for i in range(10):\n",
    "    print(i,'/',10,flush=True,end=\"\")#flush刷新,Flash"
   ]
  },
  {
   "cell_type": "code",
   "execution_count": null,
   "metadata": {},
   "outputs": [],
   "source": [
    "'%d'"
   ]
  },
  {
   "cell_type": "code",
   "execution_count": 2,
   "metadata": {},
   "outputs": [
    {
     "name": "stdout",
     "output_type": "stream",
     "text": [
      "999/1000\r"
     ]
    }
   ],
   "source": [
    "import time\n",
    "for i in range(1000):\n",
    "    print('%s/%s\\r'%(i,1000),flush=True,end=\"\")\n",
    "    time.sleep(0)"
   ]
  },
  {
   "cell_type": "code",
   "execution_count": 10,
   "metadata": {},
   "outputs": [
    {
     "name": "stdout",
     "output_type": "stream",
     "text": [
      "[100%]####################\r"
     ]
    }
   ],
   "source": [
    "#进度条\n",
    "for i in range(100):\n",
    "    print('[%s%%]%s\\r'%(i+1,(i+1)//5*'#'),flush=True,end=\"\")\n",
    "    time.sleep(0.5)"
   ]
  },
  {
   "cell_type": "code",
   "execution_count": 5,
   "metadata": {},
   "outputs": [
    {
     "ename": "IndentationError",
     "evalue": "unexpected indent (<ipython-input-5-6b8a18f9a4f4>, line 3)",
     "output_type": "error",
     "traceback": [
      "\u001b[1;36m  File \u001b[1;32m\"<ipython-input-5-6b8a18f9a4f4>\"\u001b[1;36m, line \u001b[1;32m3\u001b[0m\n\u001b[1;33m    if i % 5 = = 0\u001b[0m\n\u001b[1;37m    ^\u001b[0m\n\u001b[1;31mIndentationError\u001b[0m\u001b[1;31m:\u001b[0m unexpected indent\n"
     ]
    }
   ],
   "source": [
    "for i in range(100):\n",
    "    print('[%s%%]%s\\r'%(i+1,(i+1)//5*'#'),flush=True,end=\"\")\n",
    "        if i % 5 = = 0\n",
    "            print('#',end='')\n",
    "    time.sleep(0.5)"
   ]
  },
  {
   "cell_type": "code",
   "execution_count": null,
   "metadata": {},
   "outputs": [],
   "source": [
    "for i in range(100):\n",
    "    print('[%s%%]%s\\r'%(i+1,(i+1)//5*'#'),flush=True,end=\"\")\n",
    "    time.sleep(0.5)"
   ]
  },
  {
   "cell_type": "code",
   "execution_count": 2,
   "metadata": {},
   "outputs": [
    {
     "name": "stdout",
     "output_type": "stream",
     "text": [
      "9/100\r"
     ]
    },
    {
     "data": {
      "text/plain": [
       "1"
      ]
     },
     "execution_count": 2,
     "metadata": {},
     "output_type": "execute_result"
    }
   ],
   "source": [
    "#闹铃\n",
    "import time\n",
    "import os\n",
    "for i in range(10):\n",
    "    print('%s/%s\\r'%(i,100),flush=True,end=\"\")\n",
    "    time.sleep(1)\n",
    "os.system('say you are sb')"
   ]
  },
  {
   "cell_type": "markdown",
   "metadata": {},
   "source": [
    "## 函数str\n",
    "- 将类型强制转换成字符串类型\n",
    "- 其他一些以后会学到(list,set,tuple...)"
   ]
  },
  {
   "cell_type": "code",
   "execution_count": 14,
   "metadata": {},
   "outputs": [
    {
     "data": {
      "text/plain": [
       "10.0"
      ]
     },
     "execution_count": 14,
     "metadata": {},
     "output_type": "execute_result"
    }
   ],
   "source": [
    "float(10)"
   ]
  },
  {
   "cell_type": "code",
   "execution_count": 15,
   "metadata": {},
   "outputs": [
    {
     "data": {
      "text/plain": [
       "'True'"
      ]
     },
     "execution_count": 15,
     "metadata": {},
     "output_type": "execute_result"
    }
   ],
   "source": [
    "str(True)"
   ]
  },
  {
   "cell_type": "code",
   "execution_count": null,
   "metadata": {},
   "outputs": [],
   "source": []
  },
  {
   "cell_type": "markdown",
   "metadata": {},
   "source": [
    "## 字符串连接操作\n",
    "- 直接使用 “+” \n",
    "- join() 函数 "
   ]
  },
  {
   "cell_type": "code",
   "execution_count": 2,
   "metadata": {},
   "outputs": [
    {
     "data": {
      "text/plain": [
       "'bac'"
      ]
     },
     "execution_count": 2,
     "metadata": {},
     "output_type": "execute_result"
    }
   ],
   "source": [
    "#用a连接b与c\n",
    "'a'.join(('b','c'))"
   ]
  },
  {
   "cell_type": "code",
   "execution_count": 17,
   "metadata": {},
   "outputs": [
    {
     "name": "stdout",
     "output_type": "stream",
     "text": [
      "http://op.hanhande.net/shtml/op_wz/list_2602_3.shtml\n"
     ]
    }
   ],
   "source": [
    "a='http://op.hanhande.net/shtml/op_wz/list_2602_3.shtml'\n",
    "print(a)"
   ]
  },
  {
   "cell_type": "code",
   "execution_count": 3,
   "metadata": {},
   "outputs": [
    {
     "name": "stdout",
     "output_type": "stream",
     "text": [
      "ab\n"
     ]
    }
   ],
   "source": [
    "a='http://op.hanhande.net/shtml/op_wz/list_2602_1.shtml'\n",
    "b='http://op.hanhande.net/shtml/op_wz/list_2602_2.shtml'\n",
    "'a'.join(('b','c'))\n",
    "print(c)"
   ]
  },
  {
   "cell_type": "code",
   "execution_count": 6,
   "metadata": {},
   "outputs": [
    {
     "name": "stdout",
     "output_type": "stream",
     "text": [
      "http://op.hanhande.net/shtml/op_wz/list_2602_1.shtml\n",
      "http://op.hanhande.net/shtml/op_wz/list_2602_2.shtml\n",
      "http://op.hanhande.net/shtml/op_wz/list_2602_3.shtml\n",
      "http://op.hanhande.net/shtml/op_wz/list_2602_4.shtml\n",
      "http://op.hanhande.net/shtml/op_wz/list_2602_5.shtml\n",
      "http://op.hanhande.net/shtml/op_wz/list_2602_6.shtml\n",
      "http://op.hanhande.net/shtml/op_wz/list_2602_7.shtml\n",
      "http://op.hanhande.net/shtml/op_wz/list_2602_8.shtml\n",
      "http://op.hanhande.net/shtml/op_wz/list_2602_9.shtml\n",
      "http://op.hanhande.net/shtml/op_wz/list_2602_10.shtml\n",
      "http://op.hanhande.net/shtml/op_wz/list_2602_11.shtml\n",
      "http://op.hanhande.net/shtml/op_wz/list_2602_12.shtml\n",
      "http://op.hanhande.net/shtml/op_wz/list_2602_13.shtml\n",
      "http://op.hanhande.net/shtml/op_wz/list_2602_14.shtml\n",
      "http://op.hanhande.net/shtml/op_wz/list_2602_15.shtml\n",
      "http://op.hanhande.net/shtml/op_wz/list_2602_16.shtml\n",
      "http://op.hanhande.net/shtml/op_wz/list_2602_17.shtml\n",
      "http://op.hanhande.net/shtml/op_wz/list_2602_18.shtml\n",
      "http://op.hanhande.net/shtml/op_wz/list_2602_19.shtml\n",
      "http://op.hanhande.net/shtml/op_wz/list_2602_20.shtml\n",
      "http://op.hanhande.net/shtml/op_wz/list_2602_21.shtml\n",
      "http://op.hanhande.net/shtml/op_wz/list_2602_22.shtml\n",
      "http://op.hanhande.net/shtml/op_wz/list_2602_23.shtml\n",
      "http://op.hanhande.net/shtml/op_wz/list_2602_24.shtml\n",
      "http://op.hanhande.net/shtml/op_wz/list_2602_25.shtml\n",
      "http://op.hanhande.net/shtml/op_wz/list_2602_26.shtml\n",
      "http://op.hanhande.net/shtml/op_wz/list_2602_27.shtml\n"
     ]
    }
   ],
   "source": [
    "\n",
    "a='http://op.hanhande.net/shtml/op_wz/list_2602_'\n",
    "for i in range(1,28):\n",
    "    url = a + str(i) + '.shtml'\n",
    "    print(url)"
   ]
  },
  {
   "cell_type": "code",
   "execution_count": 5,
   "metadata": {},
   "outputs": [
    {
     "name": "stdout",
     "output_type": "stream",
     "text": [
      "http://op.hanhande.net/shtml/op_wz/list_2602_1.shtml\n",
      "http://op.hanhande.net/shtml/op_wz/list_2602_2.shtml\n",
      "http://op.hanhande.net/shtml/op_wz/list_2602_3.shtml\n",
      "http://op.hanhande.net/shtml/op_wz/list_2602_4.shtml\n",
      "http://op.hanhande.net/shtml/op_wz/list_2602_5.shtml\n",
      "http://op.hanhande.net/shtml/op_wz/list_2602_6.shtml\n",
      "http://op.hanhande.net/shtml/op_wz/list_2602_7.shtml\n",
      "http://op.hanhande.net/shtml/op_wz/list_2602_8.shtml\n",
      "http://op.hanhande.net/shtml/op_wz/list_2602_9.shtml\n",
      "http://op.hanhande.net/shtml/op_wz/list_2602_10.shtml\n",
      "http://op.hanhande.net/shtml/op_wz/list_2602_11.shtml\n",
      "http://op.hanhande.net/shtml/op_wz/list_2602_12.shtml\n",
      "http://op.hanhande.net/shtml/op_wz/list_2602_13.shtml\n",
      "http://op.hanhande.net/shtml/op_wz/list_2602_14.shtml\n",
      "http://op.hanhande.net/shtml/op_wz/list_2602_15.shtml\n",
      "http://op.hanhande.net/shtml/op_wz/list_2602_16.shtml\n",
      "http://op.hanhande.net/shtml/op_wz/list_2602_17.shtml\n",
      "http://op.hanhande.net/shtml/op_wz/list_2602_18.shtml\n",
      "http://op.hanhande.net/shtml/op_wz/list_2602_19.shtml\n",
      "http://op.hanhande.net/shtml/op_wz/list_2602_20.shtml\n",
      "http://op.hanhande.net/shtml/op_wz/list_2602_21.shtml\n",
      "http://op.hanhande.net/shtml/op_wz/list_2602_22.shtml\n",
      "http://op.hanhande.net/shtml/op_wz/list_2602_23.shtml\n",
      "http://op.hanhande.net/shtml/op_wz/list_2602_24.shtml\n",
      "http://op.hanhande.net/shtml/op_wz/list_2602_25.shtml\n",
      "http://op.hanhande.net/shtml/op_wz/list_2602_26.shtml\n",
      "http://op.hanhande.net/shtml/op_wz/list_2602_27.shtml\n"
     ]
    }
   ],
   "source": [
    "a='http://op.hanhande.net/shtml/op_wz/list_2602_'\n",
    "for i in range(1,28):\n",
    "    url = \"\".join((a,str(i)))\n",
    "    URL = \"\".join((url,'.shtml'))\n",
    "    print(URL)"
   ]
  },
  {
   "cell_type": "markdown",
   "metadata": {},
   "source": [
    "## EP：\n",
    "- 将 “Welcome” “to” \"Python\" 拼接\n",
    "- 将int型 100 与 “joker is a bad man” 拼接\n",
    "- 从控制台读取字符串\n",
    "> 输入一个名字返回夸奖此人"
   ]
  },
  {
   "cell_type": "markdown",
   "metadata": {},
   "source": [
    "## 实例研究：最小数量硬币\n",
    "- 开发一个程序，让用户输入总金额，这是一个用美元和美分表示的浮点值，返回一个由美元、两角五分的硬币、一角的硬币、五分硬币、以及美分个数\n",
    "<img src=\"../Photo/22.png\"></img>"
   ]
  },
  {
   "cell_type": "markdown",
   "metadata": {},
   "source": [
    "- Python弱项，对于浮点型的处理并不是很好，但是处理数据的时候使用的是Numpy类型\n",
    "<img src=\"../Photo/23.png\"></img>"
   ]
  },
  {
   "cell_type": "markdown",
   "metadata": {},
   "source": [
    "## id与type\n",
    "- id 查看内存地址，在判断语句中将会使用\n",
    "- type 查看元素类型"
   ]
  },
  {
   "cell_type": "code",
   "execution_count": null,
   "metadata": {},
   "outputs": [],
   "source": [
    "#精度丢失\n",
    "i = 10\n",
    "while 1:\n",
    "    i -= 0.1\n",
    "    if i == 0:\n",
    "        break"
   ]
  },
  {
   "cell_type": "markdown",
   "metadata": {},
   "source": [
    "## 其他格式化语句见书"
   ]
  },
  {
   "cell_type": "markdown",
   "metadata": {},
   "source": [
    "# Homework\n",
    "- 1\n",
    "<img src=\"../Photo/24.png\"><img>\n",
    "<img src=\"../Photo/25.png\"><img>"
   ]
  },
  {
   "cell_type": "code",
   "execution_count": 1,
   "metadata": {},
   "outputs": [
    {
     "name": "stdout",
     "output_type": "stream",
     "text": [
      "输入五边形顶点到中心的距离：5.5\n",
      "五边形的面积 71.91\n"
     ]
    }
   ],
   "source": [
    "#几何学：一个五边形的面积\n",
    "import math\n",
    "r = eval(input('输入五边形顶点到中心的距离：'))\n",
    "s = 2 * r * math.sin(3.14 / 5)\n",
    "area =( 5 * s * s )/(4 * math.tan(3.14/5))\n",
    "print('五边形的面积',round(area,2))"
   ]
  },
  {
   "cell_type": "markdown",
   "metadata": {},
   "source": [
    "- 2\n",
    "<img src=\"../Photo/26.png\"><img>"
   ]
  },
  {
   "cell_type": "code",
   "execution_count": 9,
   "metadata": {},
   "outputs": [
    {
     "name": "stdout",
     "output_type": "stream",
     "text": [
      "x1,y139.55,-116.25\n",
      "x2,y241.5,87.37\n",
      "请输入半径：6371.01\n",
      "15617.054367145705\n"
     ]
    }
   ],
   "source": [
    "#几何学：大圆距离\n",
    "import math\n",
    "x1,y1=eval(input('x1,y1'))\n",
    "x2,y2=eval(input('x2,y2'))\n",
    "radius=eval(input('请输入半径：'))\n",
    "math.radians(x1)\n",
    "math.radians(y1)\n",
    "math.radians(x2)\n",
    "math.radians(y2)\n",
    "d = radius * math.acos(math.sin(x1) * math.sin(x2) + math.cos(x1) * math.cos(x2) * math.cos(y1 - y2))\n",
    "\n",
    "print(d)\n"
   ]
  },
  {
   "cell_type": "markdown",
   "metadata": {},
   "source": [
    "- 3\n",
    "<img src=\"../Photo/27.png\"><img>"
   ]
  },
  {
   "cell_type": "code",
   "execution_count": 5,
   "metadata": {},
   "outputs": [
    {
     "name": "stdout",
     "output_type": "stream",
     "text": [
      "输入五角形的边长：5.5\n",
      "五角形的面积 52.044441367816255\n"
     ]
    }
   ],
   "source": [
    "#几何学：五角形的面积\n",
    "import math\n",
    "s = eval(input('输入五角形的边长：'))\n",
    "area = (5 * math.pow(s,2))/(4 * math.tan(math.pi/5))\n",
    "print('五角形的面积',area)"
   ]
  },
  {
   "cell_type": "markdown",
   "metadata": {},
   "source": [
    "- 4\n",
    "<img src=\"../Photo/28.png\"><img>"
   ]
  },
  {
   "cell_type": "code",
   "execution_count": 6,
   "metadata": {},
   "outputs": [
    {
     "name": "stdout",
     "output_type": "stream",
     "text": [
      "请输入边长：6.5\n",
      "请输入边数：5\n",
      "正多边形的面积 72.69017017488386\n"
     ]
    }
   ],
   "source": [
    "#几何学：一个正多边形的面积\n",
    "s = eval(input('请输入边长：'))\n",
    "n = eval(input('请输入边数：'))\n",
    "area = (n * math.pow(s,2))/(4 * math.tan(math.pi/n))\n",
    "print('正多边形的面积',area)"
   ]
  },
  {
   "cell_type": "markdown",
   "metadata": {},
   "source": [
    "- 5\n",
    "<img src=\"../Photo/29.png\"><img>\n",
    "<img src=\"../Photo/30.png\"><img>"
   ]
  },
  {
   "cell_type": "code",
   "execution_count": 3,
   "metadata": {
    "scrolled": true
   },
   "outputs": [
    {
     "name": "stdout",
     "output_type": "stream",
     "text": [
      "请输入一个ASCII码值：97\n",
      "a\n"
     ]
    }
   ],
   "source": [
    "a =eval(input('请输入一个ASCII码值：'))\n",
    "print(chr(a))\n"
   ]
  },
  {
   "cell_type": "code",
   "execution_count": 2,
   "metadata": {},
   "outputs": [
    {
     "data": {
      "text/plain": [
       "'a'"
      ]
     },
     "execution_count": 2,
     "metadata": {},
     "output_type": "execute_result"
    }
   ],
   "source": [
    "chr(97)"
   ]
  },
  {
   "cell_type": "code",
   "execution_count": 19,
   "metadata": {},
   "outputs": [
    {
     "data": {
      "text/plain": [
       "57"
      ]
     },
     "execution_count": 19,
     "metadata": {},
     "output_type": "execute_result"
    }
   ],
   "source": [
    "ord('9')"
   ]
  },
  {
   "cell_type": "markdown",
   "metadata": {},
   "source": [
    "- 6\n",
    "<img src=\"../Photo/31.png\"><img>"
   ]
  },
  {
   "cell_type": "code",
   "execution_count": 38,
   "metadata": {},
   "outputs": [
    {
     "name": "stdout",
     "output_type": "stream",
     "text": [
      "输入员工姓名:Smich\n",
      "输入每周工作:10\n",
      "输入时薪率:9.75\n",
      "输入联邦扣缴税率：0.20\n",
      "输入州域提税率：0.09\n",
      "Employee Name: Smich\n",
      "Hours Worked: 10\n",
      "Pay Rate: 9.75\n",
      "Cross 97.5\n",
      "Deductions:\n",
      "  Federal Withholding: 19.5\n",
      "  State Withholding: 8.775\n",
      "  Total Deduction: 28.275\n",
      "Net Pay: 69.225\n"
     ]
    }
   ],
   "source": [
    "#金融应用程序：工资表\n",
    "name = input('输入员工姓名:')\n",
    "hours = eval(input('输入每周工作:'))\n",
    "rate = eval(input('输入时薪率:'))\n",
    "federal = eval(input('输入联邦扣缴税率：'))\n",
    "state = eval(input('输入州域提税率：'))\n",
    "cross = hours * rate\n",
    "a = federal * cross\n",
    "b = state * cross\n",
    "c = a + b\n",
    "d = cross - c\n",
    "print('Employee Name:',name)\n",
    "print('Hours Worked:',hours)\n",
    "print('Pay Rate:',rate)\n",
    "print('Cross',cross)\n",
    "print('Deductions:')\n",
    "print('  Federal Withholding:',a)\n",
    "print('  State Withholding:',b)\n",
    "print('  Total Deduction:',c)\n",
    "print('Net Pay:',d)\n",
    "\n"
   ]
  },
  {
   "cell_type": "markdown",
   "metadata": {},
   "source": [
    "- 7\n",
    "<img src=\"../Photo/32.png\"><img>"
   ]
  },
  {
   "cell_type": "code",
   "execution_count": 43,
   "metadata": {},
   "outputs": [
    {
     "name": "stdout",
     "output_type": "stream",
     "text": [
      "3125\n",
      "5213\n"
     ]
    }
   ],
   "source": [
    "a = input('请输入一个四位整数：')\n",
    "if int(a)<0:\n",
    "    a=a[1:]\n",
    "    b=-int(a[::-1])\n",
    "else :\n",
    "    b=int(a[::-1])\n",
    "print (b)"
   ]
  },
  {
   "cell_type": "markdown",
   "metadata": {},
   "source": [
    "- 8 进阶：\n",
    "> 加密一串文本，并将解密后的文件写入本地保存"
   ]
  },
  {
   "cell_type": "code",
   "execution_count": 45,
   "metadata": {},
   "outputs": [
    {
     "name": "stdout",
     "output_type": "stream",
     "text": [
      "输入加密文本23\n",
      "解密后文本： )*\n"
     ]
    }
   ],
   "source": [
    "a = input('输入加密文本')\n",
    "c = \"\"\n",
    "for i in a:\n",
    "    b = chr(ord(i)-9)\n",
    "    c += b\n",
    "print('解密后文本：',c)"
   ]
  }
 ],
 "metadata": {
  "kernelspec": {
   "display_name": "Python 3",
   "language": "python",
   "name": "python3"
  },
  "language_info": {
   "codemirror_mode": {
    "name": "ipython",
    "version": 3
   },
   "file_extension": ".py",
   "mimetype": "text/x-python",
   "name": "python",
   "nbconvert_exporter": "python",
   "pygments_lexer": "ipython3",
   "version": "3.7.3"
  }
 },
 "nbformat": 4,
 "nbformat_minor": 2
}
